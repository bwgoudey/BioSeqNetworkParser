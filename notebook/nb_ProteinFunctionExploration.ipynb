{
 "cells": [
  {
   "cell_type": "markdown",
   "metadata": {},
   "source": [
    "# Exploration of Protein function annotations\n",
    "Protein function annotations, both codes (GO or EC) and descriptions (title of GenBank format), are key pieces of information for many downstream analyses. Most of the time, these annotations are automatically inferred from previously annotated protiens. \n",
    "\n",
    "There is ongoing concern that many protein function annotations may be erronious. Two bioinformatic studies found evidence of widespread mis-annotation within specific families of proteins, where misannotation could be detected via sequence similarity and the absence of specific requirements (e.g. certain protein domains). \n",
    "\n",
    "This notebook looks to expand this analysis by considering a wider range of protein families. We compare gold standard experimental data from SwissProt with records deposited in Genbank and examine sequence similarity. As this can be seen as a very basic protein function classification approach, we will also consider the possibity of applying more sophisticated protein function prediction tools and contrasting results. \n",
    "\n"
   ]
  },
  {
   "cell_type": "code",
   "execution_count": 17,
   "metadata": {},
   "outputs": [],
   "source": [
    "# Setup\n",
    "from Bio import SeqIO\n",
    "import re\n",
    "from collections import defaultdict\n",
    "from progressbar import progressbar\n",
    "exec(open(\"../netdbqual/utils.py\").read())\n",
    "\n"
   ]
  },
  {
   "cell_type": "code",
   "execution_count": 24,
   "metadata": {},
   "outputs": [],
   "source": [
    "# Load data\n",
    "input_file_all=\"../data/EC3_4_11_4/tmp_EC_3_4_11_4_partial_sequence.gpk\"\n",
    "f_all=SeqIO.parse(input_file_all, \"genbank\")\n",
    "#progressbar(f_all)\n",
    "rec_dict_all = {sp_rec.id: sp_rec for sp_rec in (f_all) if sp_rec.description[0:12]!=\"MULTISPECIES\"}\n",
    "\n",
    "input_file_sp=\"../data/EC3_4_11_4/EC_3_4_11_4_SP_sequence.gpk\"\n",
    "f_sp=SeqIO.parse(input_file_sp, \"genbank\")\n",
    "rec_dict_sp = {sp_rec.id: sp_rec for sp_rec in (f_sp) if sp_rec.description[0:12]!=\"MULTISPECIES\"}\n"
   ]
  },
  {
   "cell_type": "code",
   "execution_count": 25,
   "metadata": {},
   "outputs": [
    {
     "name": "stdout",
     "output_type": "stream",
     "text": [
      "('genbank', 'protein')\n"
     ]
    }
   ],
   "source": [
    "x=rec_dict_sp[list(rec_dict_sp.keys())[0]]\n",
    "print(classify_acc(x.id))\n"
   ]
  }
 ],
 "metadata": {
  "interpreter": {
   "hash": "6cf93168b562efbe9b676d870badcbdbcb790df62d7d110c86d28622bc3e60ec"
  },
  "kernelspec": {
   "display_name": "Python 3.8.10 ('env': venv)",
   "language": "python",
   "name": "python3"
  },
  "language_info": {
   "codemirror_mode": {
    "name": "ipython",
    "version": 3
   },
   "file_extension": ".py",
   "mimetype": "text/x-python",
   "name": "python",
   "nbconvert_exporter": "python",
   "pygments_lexer": "ipython3",
   "version": "3.8.10"
  },
  "orig_nbformat": 4
 },
 "nbformat": 4,
 "nbformat_minor": 2
}
