{
 "cells": [
  {
   "cell_type": "markdown",
   "metadata": {},
   "source": [
    "# Exploring propagation of record changes across databases and annotations"
   ]
  },
  {
   "cell_type": "code",
   "execution_count": 2,
   "metadata": {},
   "outputs": [],
   "source": [
    "# For each record in SwissProt\n",
    "#    Extract Taxa\n",
    "#    Extract ProteinName and Subname\n",
    "#    Extract "
   ]
  },
  {
   "cell_type": "code",
   "execution_count": 4,
   "metadata": {},
   "outputs": [],
   "source": [
    "# Imports\n",
    "from Bio import SeqIO\n",
    "import gzip"
   ]
  },
  {
   "cell_type": "code",
   "execution_count": 12,
   "metadata": {},
   "outputs": [],
   "source": [
    "# Index UniProt proteins so that we can access via their accessions. \n",
    "#  - Only needs to be run once. Takes a few minutes. \n",
    "\n",
    "data_dir = '../data/'\n",
    "up_gz = data_dir+'uniprot_sprot.dat.bgz'\n",
    "up_db = data_dir+'uniprot_sprot.dat.biopy_db'\n",
    "uniprot = SeqIO.index_db(index_filename=up_db, filenames=up_gz, format=\"swiss\")\n"
   ]
  },
  {
   "cell_type": "code",
   "execution_count": 13,
   "metadata": {},
   "outputs": [],
   "source": [
    "# Index gb_files\n",
    "gb_file=data_dir+\"gbbct60.seq.gz\"\n",
    "#h = gzip.open(gb_file, \"rt\")\n",
    "#r =SeqIO.parse(h, \"gb\").__next__()"
   ]
  },
  {
   "cell_type": "code",
   "execution_count": 27,
   "metadata": {},
   "outputs": [
    {
     "ename": "KeyboardInterrupt",
     "evalue": "",
     "output_type": "error",
     "traceback": [
      "\u001b[0;31m---------------------------------------------------------------------------\u001b[0m",
      "\u001b[0;31mKeyboardInterrupt\u001b[0m                         Traceback (most recent call last)",
      "\u001b[1;32m/Users/bgoudey/Research/BioDbNetQual/BioDbPropagationEval/notebook/nb_ProteinHistoryPropagation.ipynb Cell 6'\u001b[0m in \u001b[0;36m<cell line: 7>\u001b[0;34m()\u001b[0m\n\u001b[1;32m      <a href='vscode-notebook-cell:/Users/bgoudey/Research/BioDbNetQual/BioDbPropagationEval/notebook/nb_ProteinHistoryPropagation.ipynb#ch0000004?line=3'>4</a>\u001b[0m \u001b[39mdef\u001b[39;00m \u001b[39mget_dbxrefs\u001b[39m(r):\n\u001b[1;32m      <a href='vscode-notebook-cell:/Users/bgoudey/Research/BioDbNetQual/BioDbPropagationEval/notebook/nb_ProteinHistoryPropagation.ipynb#ch0000004?line=4'>5</a>\u001b[0m     \u001b[39mreturn\u001b[39;00m [\u001b[39mid\u001b[39m \u001b[39mfor\u001b[39;00m \u001b[39mid\u001b[39m \u001b[39min\u001b[39;00m r\u001b[39m.\u001b[39mdbxrefs \u001b[39mif\u001b[39;00m \u001b[39mid\u001b[39m[\u001b[39m0\u001b[39m:\u001b[39m6\u001b[39m]\u001b[39m==\u001b[39m\u001b[39m\"\u001b[39m\u001b[39mRefSeq\u001b[39m\u001b[39m\"\u001b[39m \u001b[39mor\u001b[39;00m \u001b[39mid\u001b[39m[\u001b[39m0\u001b[39m:\u001b[39m4\u001b[39m]\u001b[39m==\u001b[39m\u001b[39m\"\u001b[39m\u001b[39mEMBL\u001b[39m\u001b[39m\"\u001b[39m]\n\u001b[0;32m----> <a href='vscode-notebook-cell:/Users/bgoudey/Research/BioDbNetQual/BioDbPropagationEval/notebook/nb_ProteinHistoryPropagation.ipynb#ch0000004?line=6'>7</a>\u001b[0m dbxref_tuples\u001b[39m=\u001b[39m[{db_acc\u001b[39m.\u001b[39msplit(\u001b[39m\"\u001b[39m\u001b[39m:\u001b[39m\u001b[39m\"\u001b[39m)[\u001b[39m0\u001b[39m]:uniprot[acc]}  \u001b[39mfor\u001b[39;00m acc \u001b[39min\u001b[39;00m uniprot \u001b[39mfor\u001b[39;00m db_acc \u001b[39min\u001b[39;00m get_dbxrefs(uniprot[acc]) ]\n\u001b[1;32m      <a href='vscode-notebook-cell:/Users/bgoudey/Research/BioDbNetQual/BioDbPropagationEval/notebook/nb_ProteinHistoryPropagation.ipynb#ch0000004?line=7'>8</a>\u001b[0m gb_sp_map\u001b[39m=\u001b[39m{accs[\u001b[39m'\u001b[39m\u001b[39mEMBL\u001b[39m\u001b[39m'\u001b[39m] \u001b[39mfor\u001b[39;00m accs \u001b[39min\u001b[39;00m dbxref_tuples \u001b[39mif\u001b[39;00m \u001b[39m'\u001b[39m\u001b[39mEMBL\u001b[39m\u001b[39m'\u001b[39m \u001b[39min\u001b[39;00m accs}\n\u001b[1;32m      <a href='vscode-notebook-cell:/Users/bgoudey/Research/BioDbNetQual/BioDbPropagationEval/notebook/nb_ProteinHistoryPropagation.ipynb#ch0000004?line=8'>9</a>\u001b[0m rs_sp_map\u001b[39m=\u001b[39m{accs[\u001b[39m'\u001b[39m\u001b[39mRefSeq\u001b[39m\u001b[39m'\u001b[39m] \u001b[39mfor\u001b[39;00m accs \u001b[39min\u001b[39;00m dbxref_tuples \u001b[39mif\u001b[39;00m \u001b[39m'\u001b[39m\u001b[39mRefSeq\u001b[39m\u001b[39m'\u001b[39m \u001b[39min\u001b[39;00m accs}\n",
      "\u001b[1;32m/Users/bgoudey/Research/BioDbNetQual/BioDbPropagationEval/notebook/nb_ProteinHistoryPropagation.ipynb Cell 6'\u001b[0m in \u001b[0;36m<listcomp>\u001b[0;34m(.0)\u001b[0m\n\u001b[1;32m      <a href='vscode-notebook-cell:/Users/bgoudey/Research/BioDbNetQual/BioDbPropagationEval/notebook/nb_ProteinHistoryPropagation.ipynb#ch0000004?line=3'>4</a>\u001b[0m \u001b[39mdef\u001b[39;00m \u001b[39mget_dbxrefs\u001b[39m(r):\n\u001b[1;32m      <a href='vscode-notebook-cell:/Users/bgoudey/Research/BioDbNetQual/BioDbPropagationEval/notebook/nb_ProteinHistoryPropagation.ipynb#ch0000004?line=4'>5</a>\u001b[0m     \u001b[39mreturn\u001b[39;00m [\u001b[39mid\u001b[39m \u001b[39mfor\u001b[39;00m \u001b[39mid\u001b[39m \u001b[39min\u001b[39;00m r\u001b[39m.\u001b[39mdbxrefs \u001b[39mif\u001b[39;00m \u001b[39mid\u001b[39m[\u001b[39m0\u001b[39m:\u001b[39m6\u001b[39m]\u001b[39m==\u001b[39m\u001b[39m\"\u001b[39m\u001b[39mRefSeq\u001b[39m\u001b[39m\"\u001b[39m \u001b[39mor\u001b[39;00m \u001b[39mid\u001b[39m[\u001b[39m0\u001b[39m:\u001b[39m4\u001b[39m]\u001b[39m==\u001b[39m\u001b[39m\"\u001b[39m\u001b[39mEMBL\u001b[39m\u001b[39m\"\u001b[39m]\n\u001b[0;32m----> <a href='vscode-notebook-cell:/Users/bgoudey/Research/BioDbNetQual/BioDbPropagationEval/notebook/nb_ProteinHistoryPropagation.ipynb#ch0000004?line=6'>7</a>\u001b[0m dbxref_tuples\u001b[39m=\u001b[39m[{db_acc\u001b[39m.\u001b[39msplit(\u001b[39m\"\u001b[39m\u001b[39m:\u001b[39m\u001b[39m\"\u001b[39m)[\u001b[39m0\u001b[39m]:uniprot[acc]}  \u001b[39mfor\u001b[39;00m acc \u001b[39min\u001b[39;00m uniprot \u001b[39mfor\u001b[39;00m db_acc \u001b[39min\u001b[39;00m get_dbxrefs(uniprot[acc]) ]\n\u001b[1;32m      <a href='vscode-notebook-cell:/Users/bgoudey/Research/BioDbNetQual/BioDbPropagationEval/notebook/nb_ProteinHistoryPropagation.ipynb#ch0000004?line=7'>8</a>\u001b[0m gb_sp_map\u001b[39m=\u001b[39m{accs[\u001b[39m'\u001b[39m\u001b[39mEMBL\u001b[39m\u001b[39m'\u001b[39m] \u001b[39mfor\u001b[39;00m accs \u001b[39min\u001b[39;00m dbxref_tuples \u001b[39mif\u001b[39;00m \u001b[39m'\u001b[39m\u001b[39mEMBL\u001b[39m\u001b[39m'\u001b[39m \u001b[39min\u001b[39;00m accs}\n\u001b[1;32m      <a href='vscode-notebook-cell:/Users/bgoudey/Research/BioDbNetQual/BioDbPropagationEval/notebook/nb_ProteinHistoryPropagation.ipynb#ch0000004?line=8'>9</a>\u001b[0m rs_sp_map\u001b[39m=\u001b[39m{accs[\u001b[39m'\u001b[39m\u001b[39mRefSeq\u001b[39m\u001b[39m'\u001b[39m] \u001b[39mfor\u001b[39;00m accs \u001b[39min\u001b[39;00m dbxref_tuples \u001b[39mif\u001b[39;00m \u001b[39m'\u001b[39m\u001b[39mRefSeq\u001b[39m\u001b[39m'\u001b[39m \u001b[39min\u001b[39;00m accs}\n",
      "File \u001b[0;32m~/Research/BioDbNetQual/BioDbPropagationEval/.env/lib/python3.9/site-packages/Bio/File.py:551\u001b[0m, in \u001b[0;36m_SQLiteManySeqFilesDict.__getitem__\u001b[0;34m(self, key)\u001b[0m\n\u001b[1;32m    <a href='file:///Users/bgoudey/Research/BioDbNetQual/BioDbPropagationEval/.env/lib/python3.9/site-packages/Bio/File.py?line=548'>549</a>\u001b[0m proxies \u001b[39m=\u001b[39m \u001b[39mself\u001b[39m\u001b[39m.\u001b[39m_proxies\n\u001b[1;32m    <a href='file:///Users/bgoudey/Research/BioDbNetQual/BioDbPropagationEval/.env/lib/python3.9/site-packages/Bio/File.py?line=549'>550</a>\u001b[0m \u001b[39mif\u001b[39;00m file_number \u001b[39min\u001b[39;00m proxies:\n\u001b[0;32m--> <a href='file:///Users/bgoudey/Research/BioDbNetQual/BioDbPropagationEval/.env/lib/python3.9/site-packages/Bio/File.py?line=550'>551</a>\u001b[0m     record \u001b[39m=\u001b[39m proxies[file_number]\u001b[39m.\u001b[39;49mget(offset)\n\u001b[1;32m    <a href='file:///Users/bgoudey/Research/BioDbNetQual/BioDbPropagationEval/.env/lib/python3.9/site-packages/Bio/File.py?line=551'>552</a>\u001b[0m \u001b[39melse\u001b[39;00m:\n\u001b[1;32m    <a href='file:///Users/bgoudey/Research/BioDbNetQual/BioDbPropagationEval/.env/lib/python3.9/site-packages/Bio/File.py?line=552'>553</a>\u001b[0m     \u001b[39mif\u001b[39;00m \u001b[39mlen\u001b[39m(proxies) \u001b[39m>\u001b[39m\u001b[39m=\u001b[39m \u001b[39mself\u001b[39m\u001b[39m.\u001b[39m_max_open:\n\u001b[1;32m    <a href='file:///Users/bgoudey/Research/BioDbNetQual/BioDbPropagationEval/.env/lib/python3.9/site-packages/Bio/File.py?line=553'>554</a>\u001b[0m         \u001b[39m# Close an old handle...\u001b[39;00m\n",
      "File \u001b[0;32m~/Research/BioDbNetQual/BioDbPropagationEval/.env/lib/python3.9/site-packages/Bio/SeqIO/_index.py:52\u001b[0m, in \u001b[0;36mSeqFileRandomAccess.get\u001b[0;34m(self, offset)\u001b[0m\n\u001b[1;32m     <a href='file:///Users/bgoudey/Research/BioDbNetQual/BioDbPropagationEval/.env/lib/python3.9/site-packages/Bio/SeqIO/_index.py?line=49'>50</a>\u001b[0m \u001b[39m\"\"\"Return SeqRecord.\"\"\"\u001b[39;00m\n\u001b[1;32m     <a href='file:///Users/bgoudey/Research/BioDbNetQual/BioDbPropagationEval/.env/lib/python3.9/site-packages/Bio/SeqIO/_index.py?line=50'>51</a>\u001b[0m \u001b[39m# Should be overridden for binary file formats etc:\u001b[39;00m\n\u001b[0;32m---> <a href='file:///Users/bgoudey/Research/BioDbNetQual/BioDbPropagationEval/.env/lib/python3.9/site-packages/Bio/SeqIO/_index.py?line=51'>52</a>\u001b[0m \u001b[39mreturn\u001b[39;00m \u001b[39mnext\u001b[39;49m(\u001b[39mself\u001b[39;49m\u001b[39m.\u001b[39;49m_iterator(StringIO(\u001b[39mself\u001b[39;49m\u001b[39m.\u001b[39;49mget_raw(offset)\u001b[39m.\u001b[39;49mdecode())))\n",
      "File \u001b[0;32m~/Research/BioDbNetQual/BioDbPropagationEval/.env/lib/python3.9/site-packages/Bio/SeqIO/SwissIO.py:76\u001b[0m, in \u001b[0;36mSwissIterator\u001b[0;34m(source)\u001b[0m\n\u001b[1;32m     <a href='file:///Users/bgoudey/Research/BioDbNetQual/BioDbPropagationEval/.env/lib/python3.9/site-packages/Bio/SeqIO/SwissIO.py?line=55'>56</a>\u001b[0m \u001b[39m\"\"\"Break up a Swiss-Prot/UniProt file into SeqRecord objects.\u001b[39;00m\n\u001b[1;32m     <a href='file:///Users/bgoudey/Research/BioDbNetQual/BioDbPropagationEval/.env/lib/python3.9/site-packages/Bio/SeqIO/SwissIO.py?line=56'>57</a>\u001b[0m \n\u001b[1;32m     <a href='file:///Users/bgoudey/Research/BioDbNetQual/BioDbPropagationEval/.env/lib/python3.9/site-packages/Bio/SeqIO/SwissIO.py?line=57'>58</a>\u001b[0m \u001b[39mArgument source is a file-like object or a path to a file.\u001b[39;00m\n\u001b[0;32m   (...)\u001b[0m\n\u001b[1;32m     <a href='file:///Users/bgoudey/Research/BioDbNetQual/BioDbPropagationEval/.env/lib/python3.9/site-packages/Bio/SeqIO/SwissIO.py?line=71'>72</a>\u001b[0m \u001b[39mparser via Bio.SeqIO.parse(..., format=\"swiss\") instead.\u001b[39;00m\n\u001b[1;32m     <a href='file:///Users/bgoudey/Research/BioDbNetQual/BioDbPropagationEval/.env/lib/python3.9/site-packages/Bio/SeqIO/SwissIO.py?line=72'>73</a>\u001b[0m \u001b[39m\"\"\"\u001b[39;00m\n\u001b[1;32m     <a href='file:///Users/bgoudey/Research/BioDbNetQual/BioDbPropagationEval/.env/lib/python3.9/site-packages/Bio/SeqIO/SwissIO.py?line=73'>74</a>\u001b[0m swiss_records \u001b[39m=\u001b[39m SwissProt\u001b[39m.\u001b[39mparse(source)\n\u001b[0;32m---> <a href='file:///Users/bgoudey/Research/BioDbNetQual/BioDbPropagationEval/.env/lib/python3.9/site-packages/Bio/SeqIO/SwissIO.py?line=75'>76</a>\u001b[0m \u001b[39mfor\u001b[39;00m swiss_record \u001b[39min\u001b[39;00m swiss_records:\n\u001b[1;32m     <a href='file:///Users/bgoudey/Research/BioDbNetQual/BioDbPropagationEval/.env/lib/python3.9/site-packages/Bio/SeqIO/SwissIO.py?line=76'>77</a>\u001b[0m     \u001b[39m# Convert the SwissProt record to a SeqRecord\u001b[39;00m\n\u001b[1;32m     <a href='file:///Users/bgoudey/Research/BioDbNetQual/BioDbPropagationEval/.env/lib/python3.9/site-packages/Bio/SeqIO/SwissIO.py?line=77'>78</a>\u001b[0m     record \u001b[39m=\u001b[39m SeqRecord(\n\u001b[1;32m     <a href='file:///Users/bgoudey/Research/BioDbNetQual/BioDbPropagationEval/.env/lib/python3.9/site-packages/Bio/SeqIO/SwissIO.py?line=78'>79</a>\u001b[0m         Seq(swiss_record\u001b[39m.\u001b[39msequence),\n\u001b[1;32m     <a href='file:///Users/bgoudey/Research/BioDbNetQual/BioDbPropagationEval/.env/lib/python3.9/site-packages/Bio/SeqIO/SwissIO.py?line=79'>80</a>\u001b[0m         \u001b[39mid\u001b[39m\u001b[39m=\u001b[39mswiss_record\u001b[39m.\u001b[39maccessions[\u001b[39m0\u001b[39m],\n\u001b[0;32m   (...)\u001b[0m\n\u001b[1;32m     <a href='file:///Users/bgoudey/Research/BioDbNetQual/BioDbPropagationEval/.env/lib/python3.9/site-packages/Bio/SeqIO/SwissIO.py?line=82'>83</a>\u001b[0m         features\u001b[39m=\u001b[39mswiss_record\u001b[39m.\u001b[39mfeatures,\n\u001b[1;32m     <a href='file:///Users/bgoudey/Research/BioDbNetQual/BioDbPropagationEval/.env/lib/python3.9/site-packages/Bio/SeqIO/SwissIO.py?line=83'>84</a>\u001b[0m     )\n\u001b[1;32m     <a href='file:///Users/bgoudey/Research/BioDbNetQual/BioDbPropagationEval/.env/lib/python3.9/site-packages/Bio/SeqIO/SwissIO.py?line=84'>85</a>\u001b[0m     \u001b[39mfor\u001b[39;00m cross_reference \u001b[39min\u001b[39;00m swiss_record\u001b[39m.\u001b[39mcross_references:\n",
      "File \u001b[0;32m~/Research/BioDbNetQual/BioDbPropagationEval/.env/lib/python3.9/site-packages/Bio/SwissProt/__init__.py:239\u001b[0m, in \u001b[0;36mparse\u001b[0;34m(source)\u001b[0m\n\u001b[1;32m    <a href='file:///Users/bgoudey/Research/BioDbNetQual/BioDbPropagationEval/.env/lib/python3.9/site-packages/Bio/SwissProt/__init__.py?line=236'>237</a>\u001b[0m \u001b[39mtry\u001b[39;00m:\n\u001b[1;32m    <a href='file:///Users/bgoudey/Research/BioDbNetQual/BioDbPropagationEval/.env/lib/python3.9/site-packages/Bio/SwissProt/__init__.py?line=237'>238</a>\u001b[0m     \u001b[39mwhile\u001b[39;00m \u001b[39mTrue\u001b[39;00m:\n\u001b[0;32m--> <a href='file:///Users/bgoudey/Research/BioDbNetQual/BioDbPropagationEval/.env/lib/python3.9/site-packages/Bio/SwissProt/__init__.py?line=238'>239</a>\u001b[0m         record \u001b[39m=\u001b[39m _read(handle)\n\u001b[1;32m    <a href='file:///Users/bgoudey/Research/BioDbNetQual/BioDbPropagationEval/.env/lib/python3.9/site-packages/Bio/SwissProt/__init__.py?line=239'>240</a>\u001b[0m         \u001b[39mif\u001b[39;00m \u001b[39mnot\u001b[39;00m record:\n\u001b[1;32m    <a href='file:///Users/bgoudey/Research/BioDbNetQual/BioDbPropagationEval/.env/lib/python3.9/site-packages/Bio/SwissProt/__init__.py?line=240'>241</a>\u001b[0m             \u001b[39mreturn\u001b[39;00m\n",
      "File \u001b[0;32m~/Research/BioDbNetQual/BioDbPropagationEval/.env/lib/python3.9/site-packages/Bio/SwissProt/__init__.py:309\u001b[0m, in \u001b[0;36m_read\u001b[0;34m(handle)\u001b[0m\n\u001b[1;32m    <a href='file:///Users/bgoudey/Research/BioDbNetQual/BioDbPropagationEval/.env/lib/python3.9/site-packages/Bio/SwissProt/__init__.py?line=306'>307</a>\u001b[0m     accessions \u001b[39m=\u001b[39m value\u001b[39m.\u001b[39mrstrip(\u001b[39m\"\u001b[39m\u001b[39m;\u001b[39m\u001b[39m\"\u001b[39m)\u001b[39m.\u001b[39msplit(\u001b[39m\"\u001b[39m\u001b[39m; \u001b[39m\u001b[39m\"\u001b[39m)\n\u001b[1;32m    <a href='file:///Users/bgoudey/Research/BioDbNetQual/BioDbPropagationEval/.env/lib/python3.9/site-packages/Bio/SwissProt/__init__.py?line=307'>308</a>\u001b[0m     record\u001b[39m.\u001b[39maccessions\u001b[39m.\u001b[39mextend(accessions)\n\u001b[0;32m--> <a href='file:///Users/bgoudey/Research/BioDbNetQual/BioDbPropagationEval/.env/lib/python3.9/site-packages/Bio/SwissProt/__init__.py?line=308'>309</a>\u001b[0m \u001b[39melif\u001b[39;00m key \u001b[39m==\u001b[39;49m \u001b[39m\"\u001b[39;49m\u001b[39mDT\u001b[39;49m\u001b[39m\"\u001b[39;49m:\n\u001b[1;32m    <a href='file:///Users/bgoudey/Research/BioDbNetQual/BioDbPropagationEval/.env/lib/python3.9/site-packages/Bio/SwissProt/__init__.py?line=309'>310</a>\u001b[0m     _read_dt(record, line)\n\u001b[1;32m    <a href='file:///Users/bgoudey/Research/BioDbNetQual/BioDbPropagationEval/.env/lib/python3.9/site-packages/Bio/SwissProt/__init__.py?line=310'>311</a>\u001b[0m \u001b[39melif\u001b[39;00m key \u001b[39m==\u001b[39m \u001b[39m\"\u001b[39m\u001b[39mDE\u001b[39m\u001b[39m\"\u001b[39m:\n",
      "\u001b[0;31mKeyboardInterrupt\u001b[0m: "
     ]
    }
   ],
   "source": [
    "# Create a mapping from GenBank and RefSeq to SwissProt record. \n",
    "from datetime import datetime\n",
    "\n",
    "print(datetime.now().strftime(\"%H:%M:%S\"))\n",
    "gb_sp_map={id.split(\":\")[1]:r  for r in uniprot for id in uniprot[r].dbxrefs if id[0:4]==\"EMBL\"}\n",
    "print(datetime.now().strftime(\"%H:%M:%S\"))\n",
    "rs_sp_map={id.split(\":\")[1]:r  for r in uniprot for id in uniprot[r].dbxrefs if id[0:6]==\"RefSeq\"}\n",
    "\n",
    "def get_dbxrefs(r):\n",
    "    return [id for id in r.dbxrefs if id[0:6]==\"RefSeq\" or id[0:4]==\"EMBL\"]\n",
    "\n",
    "print(datetime.now().strftime(\"%H:%M:%S\"))\n",
    "dbxref_tuples=[{db_acc.split(\":\")[0]:(db_acc.split(\":\")[1], uniprot[acc])}  for acc in uniprot for db_acc in get_dbxrefs(uniprot[acc]) ]\n",
    "\n",
    "print(datetime.now().strftime(\"%H:%M:%S\"))\n",
    "gb_sp_map={accs['EMBL'] for accs in dbxref_tuples if 'EMBL' in accs}\n",
    "rs_sp_map={accs['RefSeq'] for accs in dbxref_tuples if 'RefSeq' in accs}\n",
    "print(datetime.now().strftime(\"%H:%M:%S\"))\n"
   ]
  },
  {
   "cell_type": "code",
   "execution_count": 48,
   "metadata": {},
   "outputs": [
    {
     "ename": "KeyboardInterrupt",
     "evalue": "",
     "output_type": "error",
     "traceback": [
      "\u001b[0;31m---------------------------------------------------------------------------\u001b[0m",
      "\u001b[0;31mKeyboardInterrupt\u001b[0m                         Traceback (most recent call last)",
      "\u001b[1;32m/home/bwgoudey/Research2/BioDbNetQual/220411_ExamineFunction/notebook/nb_ProteinHistoryPropagation.ipynb Cell 7'\u001b[0m in \u001b[0;36m<cell line: 2>\u001b[0;34m()\u001b[0m\n\u001b[1;32m      <a href='vscode-notebook-cell:/home/bwgoudey/Research2/BioDbNetQual/220411_ExamineFunction/notebook/nb_ProteinHistoryPropagation.ipynb#ch0000006?line=0'>1</a>\u001b[0m gbs_iter\u001b[39m=\u001b[39mSeqIO\u001b[39m.\u001b[39mparse(h, \u001b[39m\"\u001b[39m\u001b[39mgb\u001b[39m\u001b[39m\"\u001b[39m)\n\u001b[0;32m----> <a href='vscode-notebook-cell:/home/bwgoudey/Research2/BioDbNetQual/220411_ExamineFunction/notebook/nb_ProteinHistoryPropagation.ipynb#ch0000006?line=1'>2</a>\u001b[0m gbs_cut\u001b[39m=\u001b[39m[gbs_iter\u001b[39m.\u001b[39m\u001b[39m__next__\u001b[39m() \u001b[39mfor\u001b[39;00m i \u001b[39min\u001b[39;00m \u001b[39mrange\u001b[39m(\u001b[39m100\u001b[39m)]\n\u001b[1;32m      <a href='vscode-notebook-cell:/home/bwgoudey/Research2/BioDbNetQual/220411_ExamineFunction/notebook/nb_ProteinHistoryPropagation.ipynb#ch0000006?line=2'>3</a>\u001b[0m prots\u001b[39m=\u001b[39m([ (p\u001b[39m.\u001b[39mqualifiers[\u001b[39m'\u001b[39m\u001b[39mproduct\u001b[39m\u001b[39m'\u001b[39m],p\u001b[39m.\u001b[39mqualifiers[\u001b[39m'\u001b[39m\u001b[39mprotein_id\u001b[39m\u001b[39m'\u001b[39m], p\u001b[39m.\u001b[39mqualifiers[\u001b[39m'\u001b[39m\u001b[39mtranslation\u001b[39m\u001b[39m'\u001b[39m]) \u001b[39mfor\u001b[39;00m r \u001b[39min\u001b[39;00m gbs_cut \u001b[39mfor\u001b[39;00m p \u001b[39min\u001b[39;00m r\u001b[39m.\u001b[39mfeatures \u001b[39mif\u001b[39;00m p\u001b[39m.\u001b[39mtype\u001b[39m==\u001b[39m\u001b[39m\"\u001b[39m\u001b[39mCDS\u001b[39m\u001b[39m\"\u001b[39m \u001b[39mand\u001b[39;00m \u001b[39m'\u001b[39m\u001b[39mpseudo\u001b[39m\u001b[39m'\u001b[39m \u001b[39mnot\u001b[39;00m \u001b[39min\u001b[39;00m p\u001b[39m.\u001b[39mqualifiers])\n\u001b[1;32m      <a href='vscode-notebook-cell:/home/bwgoudey/Research2/BioDbNetQual/220411_ExamineFunction/notebook/nb_ProteinHistoryPropagation.ipynb#ch0000006?line=3'>4</a>\u001b[0m I\u001b[39m=\u001b[39m[p[\u001b[39m1\u001b[39m][\u001b[39m0\u001b[39m] \u001b[39min\u001b[39;00m gb_sp_map \u001b[39mor\u001b[39;00m p[\u001b[39m1\u001b[39m][\u001b[39m0\u001b[39m]\u001b[39m.\u001b[39msplit(\u001b[39m'\u001b[39m\u001b[39m.\u001b[39m\u001b[39m'\u001b[39m)[\u001b[39m0\u001b[39m] \u001b[39min\u001b[39;00m gb_sp_map \u001b[39mfor\u001b[39;00m p \u001b[39min\u001b[39;00m prots]\n",
      "\u001b[1;32m/home/bwgoudey/Research2/BioDbNetQual/220411_ExamineFunction/notebook/nb_ProteinHistoryPropagation.ipynb Cell 7'\u001b[0m in \u001b[0;36m<listcomp>\u001b[0;34m(.0)\u001b[0m\n\u001b[1;32m      <a href='vscode-notebook-cell:/home/bwgoudey/Research2/BioDbNetQual/220411_ExamineFunction/notebook/nb_ProteinHistoryPropagation.ipynb#ch0000006?line=0'>1</a>\u001b[0m gbs_iter\u001b[39m=\u001b[39mSeqIO\u001b[39m.\u001b[39mparse(h, \u001b[39m\"\u001b[39m\u001b[39mgb\u001b[39m\u001b[39m\"\u001b[39m)\n\u001b[0;32m----> <a href='vscode-notebook-cell:/home/bwgoudey/Research2/BioDbNetQual/220411_ExamineFunction/notebook/nb_ProteinHistoryPropagation.ipynb#ch0000006?line=1'>2</a>\u001b[0m gbs_cut\u001b[39m=\u001b[39m[gbs_iter\u001b[39m.\u001b[39;49m\u001b[39m__next__\u001b[39;49m() \u001b[39mfor\u001b[39;00m i \u001b[39min\u001b[39;00m \u001b[39mrange\u001b[39m(\u001b[39m100\u001b[39m)]\n\u001b[1;32m      <a href='vscode-notebook-cell:/home/bwgoudey/Research2/BioDbNetQual/220411_ExamineFunction/notebook/nb_ProteinHistoryPropagation.ipynb#ch0000006?line=2'>3</a>\u001b[0m prots\u001b[39m=\u001b[39m([ (p\u001b[39m.\u001b[39mqualifiers[\u001b[39m'\u001b[39m\u001b[39mproduct\u001b[39m\u001b[39m'\u001b[39m],p\u001b[39m.\u001b[39mqualifiers[\u001b[39m'\u001b[39m\u001b[39mprotein_id\u001b[39m\u001b[39m'\u001b[39m], p\u001b[39m.\u001b[39mqualifiers[\u001b[39m'\u001b[39m\u001b[39mtranslation\u001b[39m\u001b[39m'\u001b[39m]) \u001b[39mfor\u001b[39;00m r \u001b[39min\u001b[39;00m gbs_cut \u001b[39mfor\u001b[39;00m p \u001b[39min\u001b[39;00m r\u001b[39m.\u001b[39mfeatures \u001b[39mif\u001b[39;00m p\u001b[39m.\u001b[39mtype\u001b[39m==\u001b[39m\u001b[39m\"\u001b[39m\u001b[39mCDS\u001b[39m\u001b[39m\"\u001b[39m \u001b[39mand\u001b[39;00m \u001b[39m'\u001b[39m\u001b[39mpseudo\u001b[39m\u001b[39m'\u001b[39m \u001b[39mnot\u001b[39;00m \u001b[39min\u001b[39;00m p\u001b[39m.\u001b[39mqualifiers])\n\u001b[1;32m      <a href='vscode-notebook-cell:/home/bwgoudey/Research2/BioDbNetQual/220411_ExamineFunction/notebook/nb_ProteinHistoryPropagation.ipynb#ch0000006?line=3'>4</a>\u001b[0m I\u001b[39m=\u001b[39m[p[\u001b[39m1\u001b[39m][\u001b[39m0\u001b[39m] \u001b[39min\u001b[39;00m gb_sp_map \u001b[39mor\u001b[39;00m p[\u001b[39m1\u001b[39m][\u001b[39m0\u001b[39m]\u001b[39m.\u001b[39msplit(\u001b[39m'\u001b[39m\u001b[39m.\u001b[39m\u001b[39m'\u001b[39m)[\u001b[39m0\u001b[39m] \u001b[39min\u001b[39;00m gb_sp_map \u001b[39mfor\u001b[39;00m p \u001b[39min\u001b[39;00m prots]\n",
      "File \u001b[0;32m~/Research2/BioDbNetQual/220411_ExamineFunction/env/lib/python3.8/site-packages/Bio/SeqIO/Interfaces.py:74\u001b[0m, in \u001b[0;36mSequenceIterator.__next__\u001b[0;34m(self)\u001b[0m\n\u001b[1;32m     <a href='file:///home/bwgoudey/Research2/BioDbNetQual/220411_ExamineFunction/env/lib/python3.8/site-packages/Bio/SeqIO/Interfaces.py?line=71'>72</a>\u001b[0m \u001b[39mdef\u001b[39;00m \u001b[39m__next__\u001b[39m(\u001b[39mself\u001b[39m):\n\u001b[1;32m     <a href='file:///home/bwgoudey/Research2/BioDbNetQual/220411_ExamineFunction/env/lib/python3.8/site-packages/Bio/SeqIO/Interfaces.py?line=72'>73</a>\u001b[0m     \u001b[39mtry\u001b[39;00m:\n\u001b[0;32m---> <a href='file:///home/bwgoudey/Research2/BioDbNetQual/220411_ExamineFunction/env/lib/python3.8/site-packages/Bio/SeqIO/Interfaces.py?line=73'>74</a>\u001b[0m         \u001b[39mreturn\u001b[39;00m \u001b[39mnext\u001b[39;49m(\u001b[39mself\u001b[39;49m\u001b[39m.\u001b[39;49mrecords)\n\u001b[1;32m     <a href='file:///home/bwgoudey/Research2/BioDbNetQual/220411_ExamineFunction/env/lib/python3.8/site-packages/Bio/SeqIO/Interfaces.py?line=74'>75</a>\u001b[0m     \u001b[39mexcept\u001b[39;00m \u001b[39mException\u001b[39;00m:\n\u001b[1;32m     <a href='file:///home/bwgoudey/Research2/BioDbNetQual/220411_ExamineFunction/env/lib/python3.8/site-packages/Bio/SeqIO/Interfaces.py?line=75'>76</a>\u001b[0m         \u001b[39mif\u001b[39;00m \u001b[39mself\u001b[39m\u001b[39m.\u001b[39mshould_close_stream:\n",
      "File \u001b[0;32m~/Research2/BioDbNetQual/220411_ExamineFunction/env/lib/python3.8/site-packages/Bio/GenBank/Scanner.py:516\u001b[0m, in \u001b[0;36mInsdcScanner.parse_records\u001b[0;34m(self, handle, do_features)\u001b[0m\n\u001b[1;32m    <a href='file:///home/bwgoudey/Research2/BioDbNetQual/220411_ExamineFunction/env/lib/python3.8/site-packages/Bio/GenBank/Scanner.py?line=513'>514</a>\u001b[0m \u001b[39mwith\u001b[39;00m as_handle(handle) \u001b[39mas\u001b[39;00m handle:\n\u001b[1;32m    <a href='file:///home/bwgoudey/Research2/BioDbNetQual/220411_ExamineFunction/env/lib/python3.8/site-packages/Bio/GenBank/Scanner.py?line=514'>515</a>\u001b[0m     \u001b[39mwhile\u001b[39;00m \u001b[39mTrue\u001b[39;00m:\n\u001b[0;32m--> <a href='file:///home/bwgoudey/Research2/BioDbNetQual/220411_ExamineFunction/env/lib/python3.8/site-packages/Bio/GenBank/Scanner.py?line=515'>516</a>\u001b[0m         record \u001b[39m=\u001b[39m \u001b[39mself\u001b[39;49m\u001b[39m.\u001b[39;49mparse(handle, do_features)\n\u001b[1;32m    <a href='file:///home/bwgoudey/Research2/BioDbNetQual/220411_ExamineFunction/env/lib/python3.8/site-packages/Bio/GenBank/Scanner.py?line=516'>517</a>\u001b[0m         \u001b[39mif\u001b[39;00m record \u001b[39mis\u001b[39;00m \u001b[39mNone\u001b[39;00m:\n\u001b[1;32m    <a href='file:///home/bwgoudey/Research2/BioDbNetQual/220411_ExamineFunction/env/lib/python3.8/site-packages/Bio/GenBank/Scanner.py?line=517'>518</a>\u001b[0m             \u001b[39mbreak\u001b[39;00m\n",
      "File \u001b[0;32m~/Research2/BioDbNetQual/220411_ExamineFunction/env/lib/python3.8/site-packages/Bio/GenBank/Scanner.py:499\u001b[0m, in \u001b[0;36mInsdcScanner.parse\u001b[0;34m(self, handle, do_features)\u001b[0m\n\u001b[1;32m    <a href='file:///home/bwgoudey/Research2/BioDbNetQual/220411_ExamineFunction/env/lib/python3.8/site-packages/Bio/GenBank/Scanner.py?line=492'>493</a>\u001b[0m \u001b[39mfrom\u001b[39;00m \u001b[39mBio\u001b[39;00m\u001b[39m.\u001b[39;00m\u001b[39mGenBank\u001b[39;00m\u001b[39m.\u001b[39;00m\u001b[39mutils\u001b[39;00m \u001b[39mimport\u001b[39;00m FeatureValueCleaner\n\u001b[1;32m    <a href='file:///home/bwgoudey/Research2/BioDbNetQual/220411_ExamineFunction/env/lib/python3.8/site-packages/Bio/GenBank/Scanner.py?line=494'>495</a>\u001b[0m consumer \u001b[39m=\u001b[39m _FeatureConsumer(\n\u001b[1;32m    <a href='file:///home/bwgoudey/Research2/BioDbNetQual/220411_ExamineFunction/env/lib/python3.8/site-packages/Bio/GenBank/Scanner.py?line=495'>496</a>\u001b[0m     use_fuzziness\u001b[39m=\u001b[39m\u001b[39m1\u001b[39m, feature_cleaner\u001b[39m=\u001b[39mFeatureValueCleaner()\n\u001b[1;32m    <a href='file:///home/bwgoudey/Research2/BioDbNetQual/220411_ExamineFunction/env/lib/python3.8/site-packages/Bio/GenBank/Scanner.py?line=496'>497</a>\u001b[0m )\n\u001b[0;32m--> <a href='file:///home/bwgoudey/Research2/BioDbNetQual/220411_ExamineFunction/env/lib/python3.8/site-packages/Bio/GenBank/Scanner.py?line=498'>499</a>\u001b[0m \u001b[39mif\u001b[39;00m \u001b[39mself\u001b[39;49m\u001b[39m.\u001b[39;49mfeed(handle, consumer, do_features):\n\u001b[1;32m    <a href='file:///home/bwgoudey/Research2/BioDbNetQual/220411_ExamineFunction/env/lib/python3.8/site-packages/Bio/GenBank/Scanner.py?line=499'>500</a>\u001b[0m     \u001b[39mreturn\u001b[39;00m consumer\u001b[39m.\u001b[39mdata\n\u001b[1;32m    <a href='file:///home/bwgoudey/Research2/BioDbNetQual/220411_ExamineFunction/env/lib/python3.8/site-packages/Bio/GenBank/Scanner.py?line=500'>501</a>\u001b[0m \u001b[39melse\u001b[39;00m:\n",
      "File \u001b[0;32m~/Research2/BioDbNetQual/220411_ExamineFunction/env/lib/python3.8/site-packages/Bio/GenBank/Scanner.py:470\u001b[0m, in \u001b[0;36mInsdcScanner.feed\u001b[0;34m(self, handle, consumer, do_features)\u001b[0m\n\u001b[1;32m    <a href='file:///home/bwgoudey/Research2/BioDbNetQual/220411_ExamineFunction/env/lib/python3.8/site-packages/Bio/GenBank/Scanner.py?line=467'>468</a>\u001b[0m \u001b[39m# Features (common to both EMBL and GenBank):\u001b[39;00m\n\u001b[1;32m    <a href='file:///home/bwgoudey/Research2/BioDbNetQual/220411_ExamineFunction/env/lib/python3.8/site-packages/Bio/GenBank/Scanner.py?line=468'>469</a>\u001b[0m \u001b[39mif\u001b[39;00m do_features:\n\u001b[0;32m--> <a href='file:///home/bwgoudey/Research2/BioDbNetQual/220411_ExamineFunction/env/lib/python3.8/site-packages/Bio/GenBank/Scanner.py?line=469'>470</a>\u001b[0m     \u001b[39mself\u001b[39m\u001b[39m.\u001b[39m_feed_feature_table(consumer, \u001b[39mself\u001b[39;49m\u001b[39m.\u001b[39;49mparse_features(skip\u001b[39m=\u001b[39;49m\u001b[39mFalse\u001b[39;49;00m))\n\u001b[1;32m    <a href='file:///home/bwgoudey/Research2/BioDbNetQual/220411_ExamineFunction/env/lib/python3.8/site-packages/Bio/GenBank/Scanner.py?line=470'>471</a>\u001b[0m \u001b[39melse\u001b[39;00m:\n\u001b[1;32m    <a href='file:///home/bwgoudey/Research2/BioDbNetQual/220411_ExamineFunction/env/lib/python3.8/site-packages/Bio/GenBank/Scanner.py?line=471'>472</a>\u001b[0m     \u001b[39mself\u001b[39m\u001b[39m.\u001b[39mparse_features(skip\u001b[39m=\u001b[39m\u001b[39mTrue\u001b[39;00m)  \u001b[39m# ignore the data\u001b[39;00m\n",
      "File \u001b[0;32m~/Research2/BioDbNetQual/220411_ExamineFunction/env/lib/python3.8/site-packages/Bio/GenBank/Scanner.py:229\u001b[0m, in \u001b[0;36mInsdcScanner.parse_features\u001b[0;34m(self, skip)\u001b[0m\n\u001b[1;32m    <a href='file:///home/bwgoudey/Research2/BioDbNetQual/220411_ExamineFunction/env/lib/python3.8/site-packages/Bio/GenBank/Scanner.py?line=220'>221</a>\u001b[0m         \u001b[39mwhile\u001b[39;00m line[\n\u001b[1;32m    <a href='file:///home/bwgoudey/Research2/BioDbNetQual/220411_ExamineFunction/env/lib/python3.8/site-packages/Bio/GenBank/Scanner.py?line=221'>222</a>\u001b[0m             : \u001b[39mself\u001b[39m\u001b[39m.\u001b[39mFEATURE_QUALIFIER_INDENT\n\u001b[1;32m    <a href='file:///home/bwgoudey/Research2/BioDbNetQual/220411_ExamineFunction/env/lib/python3.8/site-packages/Bio/GenBank/Scanner.py?line=222'>223</a>\u001b[0m         ] \u001b[39m==\u001b[39m \u001b[39mself\u001b[39m\u001b[39m.\u001b[39mFEATURE_QUALIFIER_SPACER \u001b[39mor\u001b[39;00m (\n\u001b[0;32m   (...)\u001b[0m\n\u001b[1;32m    <a href='file:///home/bwgoudey/Research2/BioDbNetQual/220411_ExamineFunction/env/lib/python3.8/site-packages/Bio/GenBank/Scanner.py?line=225'>226</a>\u001b[0m             \u001b[39m# Use strip to remove any harmless trailing white space AND and leading\u001b[39;00m\n\u001b[1;32m    <a href='file:///home/bwgoudey/Research2/BioDbNetQual/220411_ExamineFunction/env/lib/python3.8/site-packages/Bio/GenBank/Scanner.py?line=226'>227</a>\u001b[0m             \u001b[39m# white space (e.g. out of spec files with too much indentation)\u001b[39;00m\n\u001b[1;32m    <a href='file:///home/bwgoudey/Research2/BioDbNetQual/220411_ExamineFunction/env/lib/python3.8/site-packages/Bio/GenBank/Scanner.py?line=227'>228</a>\u001b[0m             feature_lines\u001b[39m.\u001b[39mappend(line[\u001b[39mself\u001b[39m\u001b[39m.\u001b[39mFEATURE_QUALIFIER_INDENT :]\u001b[39m.\u001b[39mstrip())\n\u001b[0;32m--> <a href='file:///home/bwgoudey/Research2/BioDbNetQual/220411_ExamineFunction/env/lib/python3.8/site-packages/Bio/GenBank/Scanner.py?line=228'>229</a>\u001b[0m             line \u001b[39m=\u001b[39m \u001b[39mself\u001b[39;49m\u001b[39m.\u001b[39;49mhandle\u001b[39m.\u001b[39;49mreadline()\n\u001b[1;32m    <a href='file:///home/bwgoudey/Research2/BioDbNetQual/220411_ExamineFunction/env/lib/python3.8/site-packages/Bio/GenBank/Scanner.py?line=229'>230</a>\u001b[0m         features\u001b[39m.\u001b[39mappend(\u001b[39mself\u001b[39m\u001b[39m.\u001b[39mparse_feature(feature_key, feature_lines))\n\u001b[1;32m    <a href='file:///home/bwgoudey/Research2/BioDbNetQual/220411_ExamineFunction/env/lib/python3.8/site-packages/Bio/GenBank/Scanner.py?line=230'>231</a>\u001b[0m \u001b[39mself\u001b[39m\u001b[39m.\u001b[39mline \u001b[39m=\u001b[39m line\n",
      "\u001b[0;31mKeyboardInterrupt\u001b[0m: "
     ]
    }
   ],
   "source": [
    "\n",
    "gbs_iter=SeqIO.parse(h, \"gb\")\n",
    "gbs_cut=[gbs_iter.__next__() for i in range(100)]\n",
    "prots=([ (p.qualifiers['product'],p.qualifiers['protein_id'], p.qualifiers['translation']) for r in gbs_cut for p in r.features if p.type==\"CDS\" and 'pseudo' not in p.qualifiers])\n",
    "I=[p[1][0] in gb_sp_map or p[1][0].split('.')[0] in gb_sp_map for p in prots]\n",
    "any(i)"
   ]
  },
  {
   "cell_type": "code",
   "execution_count": null,
   "metadata": {},
   "outputs": [],
   "source": [
    "# For each set of genbank records (gb*.seq.gz)\n",
    "#  Extract record\n",
    "#  Download history\n",
    "#  "
   ]
  }
 ],
 "metadata": {
  "interpreter": {
   "hash": "4d8eea3e487bd2e3b9ae8892f2b688f4310b47e90c9d4741ca489326e81f87fc"
  },
  "kernelspec": {
   "display_name": "Python 3.9.12 ('.env': venv)",
   "language": "python",
   "name": "python3"
  },
  "language_info": {
   "codemirror_mode": {
    "name": "ipython",
    "version": 3
   },
   "file_extension": ".py",
   "mimetype": "text/x-python",
   "name": "python",
   "nbconvert_exporter": "python",
   "pygments_lexer": "ipython3",
   "version": "3.9.12"
  },
  "orig_nbformat": 4
 },
 "nbformat": 4,
 "nbformat_minor": 2
}
