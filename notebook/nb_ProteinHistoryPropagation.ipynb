{
 "cells": [
  {
   "cell_type": "markdown",
   "metadata": {},
   "source": [
    "# Exploring propagation of record changes across databases and annotations"
   ]
  },
  {
   "cell_type": "code",
   "execution_count": 1,
   "metadata": {},
   "outputs": [],
   "source": [
    "# For each record in SwissProt\n",
    "#    Extract Taxa\n",
    "#    Extract ProteinName and Subname\n",
    "#    Extract "
   ]
  },
  {
   "cell_type": "code",
   "execution_count": 2,
   "metadata": {},
   "outputs": [],
   "source": [
    "# Imports\n",
    "from Bio import SeqIO\n",
    "import gzip\n",
    "import progressbar"
   ]
  },
  {
   "cell_type": "code",
   "execution_count": 3,
   "metadata": {},
   "outputs": [],
   "source": [
    "# Index UniProt proteins so that we can access via their accessions. \n",
    "#  - Only needs to be run once. Takes a few minutes. \n",
    "\n",
    "data_dir = '../data/'\n",
    "up_gz = data_dir+'uniprot_sprot.dat.bgz'\n",
    "up_db = data_dir+'uniprot_sprot.dat.biopy_db'\n",
    "uniprot = SeqIO.index_db(index_filename=up_db, filenames=up_gz, format=\"swiss\")\n"
   ]
  },
  {
   "cell_type": "code",
   "execution_count": 3,
   "metadata": {},
   "outputs": [],
   "source": [
    "# Index gb_files\n",
    "gb_file=data_dir+\"gbbct60.seq.gz\"\n",
    "#h = gzip.open(gb_file, \"rt\")\n",
    "#r =SeqIO.parse(h, \"gb\").__next__()"
   ]
  },
  {
   "cell_type": "code",
   "execution_count": null,
   "metadata": {},
   "outputs": [],
   "source": [
    "# Create a mapping from GenBank and RefSeq to SwissProt record. \n",
    "from datetime import datetime\n",
    "from netdbqual import utils; classify_acc(acc)\n",
    "print(datetime.now().strftime(\"%H:%M:%S\"))\n",
    "gb_sp_map={id.split(\":\")[1]:r  for r in uniprot for id in uniprot[r].dbxrefs if id[0:4]==\"EMBL\"}\n",
    "print(datetime.now().strftime(\"%H:%M:%S\"))\n",
    "rs_sp_map={id.split(\":\")[1]:r  for r in uniprot for id in uniprot[r].dbxrefs if id[0:6]==\"RefSeq\"}\n",
    "\n",
    "def get_dbxrefs(r):\n",
    "    return [id for id in r.dbxrefs if id[0:6]==\"RefSeq\" or id[0:4]==\"EMBL\"]\n",
    "\n",
    "print(datetime.now().strftime(\"%H:%M:%S\"))\n",
    "dbxref_tuples=[{db_acc.split(\":\")[0]:(db_acc.split(\":\")[1], uniprot[acc])}  for acc in uniprot for db_acc in get_dbxrefs(uniprot[acc]) ]\n",
    "\n",
    "print(datetime.now().strftime(\"%H:%M:%S\"))\n",
    "gb_sp_map={accs['EMBL'] for accs in dbxref_tuples if 'EMBL' in accs}\n",
    "rs_sp_map={accs['RefSeq'] for accs in dbxref_tuples if 'RefSeq' in accs}\n",
    "print(datetime.now().strftime(\"%H:%M:%S\"))\n"
   ]
  },
  {
   "cell_type": "code",
   "execution_count": 4,
   "metadata": {},
   "outputs": [],
   "source": [
    "import re \n",
    "exec(open(\"../netdbqual/utils.py\").read())\n",
    "\n",
    "gb_file=\"gbbct15.seq.gz\"\n",
    "gbs_iter=SeqIO.parse(gzip.open(data_dir + gb_file, \"rt\"), \"gb\")\n",
    "#gbs_cut=[gbs_iter.__next__() for i in range(300)]\n",
    "\n",
    "#For each genome sequence,\n",
    "gb_file_no_ext=gb_file.split(\".\")[0]\n"
   ]
  },
  {
   "cell_type": "code",
   "execution_count": 7,
   "metadata": {},
   "outputs": [
    {
     "name": "stdout",
     "output_type": "stream",
     "text": [
      "0\n"
     ]
    }
   ],
   "source": [
    "#exec(open(\"../netdbqual/utils.py\").read())\n",
    "#exec(open(\"../netdbqual/parser.py\").read())\n",
    "import glob\n",
    "import re \n",
    "\n",
    "from os import path\n",
    "import sys\n",
    "sys.path.append('../')\n",
    "import netdbqual.utils as u\n",
    "import netdbqual.parser as parser\n",
    "gb_file=\"gbbct*.seq.gz\"\n",
    "from importlib import reload  # Python 3.4+\n",
    "reload(parser)\n",
    "\n",
    "\n",
    "#for i,f in enumerate(glob.glob(data_dir + gb_file)):\n",
    "#f=\"../../220411_ExamineFunction/data/EC3_4_11_4/EC_3_4_11_4_SP_sequence.gpk\"\n",
    "f=data_dir + \"tmp_EC_3_4_11_4_partial_sequence.gpk\"\n",
    "if 1:\n",
    "    #gbs_iter=SeqIO.parse(gzip.open(f, \"rt\"), \"gb\")\n",
    "    gbs_iter=SeqIO.parse(f, \"gb\")\n",
    "    gb_file_no_ext=path.basename(f).split(\".\")[0]\n",
    "    #print(i)\n",
    "    \n",
    "    nodes=[]\n",
    "    edges=[]\n",
    "    with open(data_dir + gb_file_no_ext+'_node.csv', \"w\") as node_file:\n",
    "        with open(data_dir + gb_file_no_ext+'_edge.csv', \"w\") as edge_file:            \n",
    "            for j,r in enumerate(gbs_iter):\n",
    "                # look at all CDS \n",
    "                print(j)\n",
    "                (db,seq_type)=u.classify_acc(r.id)\n",
    "                if seq_type==\"nucleotide\":\n",
    "                    nodes,edges=parser.parse_gb_nuc(r)\n",
    "                elif db==\"uniprot\" and seq_type==\"protein\":                    \n",
    "                    nodes,edges=parser.parse_gb_protein_gff(r)\n",
    "                elif seq_type==\"protein\":                    \n",
    "                    nodes,edges=parser.parse_gb_protein_gff(r)                \n",
    "                else:\n",
    "                    print(\"Problem\")\n",
    "                    sdfsdfsd\n",
    "\n",
    "                if edges:\n",
    "                    edge_file.write('\\n'.join(edges)+\"\\n\")\n",
    "\n",
    "                node_file.write('\\n'.join(nodes)+\"\\n\")\n",
    "                "
   ]
  },
  {
   "cell_type": "code",
   "execution_count": null,
   "metadata": {},
   "outputs": [],
   "source": [
    "# For each set of genbank records (gb*.seq.gz)\n",
    "#  Extract record\n",
    "#  Download history\n",
    "#  "
   ]
  }
 ],
 "metadata": {
  "interpreter": {
   "hash": "4d8eea3e487bd2e3b9ae8892f2b688f4310b47e90c9d4741ca489326e81f87fc"
  },
  "kernelspec": {
   "display_name": "Python 3.9.12 ('.env': venv)",
   "language": "python",
   "name": "python3"
  },
  "language_info": {
   "codemirror_mode": {
    "name": "ipython",
    "version": 3
   },
   "file_extension": ".py",
   "mimetype": "text/x-python",
   "name": "python",
   "nbconvert_exporter": "python",
   "pygments_lexer": "ipython3",
   "version": "3.9.12"
  },
  "orig_nbformat": 4
 },
 "nbformat": 4,
 "nbformat_minor": 2
}
