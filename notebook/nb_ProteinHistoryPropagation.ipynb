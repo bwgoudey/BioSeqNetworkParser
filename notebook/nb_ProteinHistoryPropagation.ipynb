{
 "cells": [
  {
   "cell_type": "markdown",
   "metadata": {},
   "source": [
    "# Exploring propagation of record changes across databases and annotations"
   ]
  },
  {
   "cell_type": "code",
   "execution_count": null,
   "metadata": {},
   "outputs": [],
   "source": [
    "# For each record in SwissProt\n",
    "#    Extract Taxa\n",
    "#    Extract ProteinName and Subname\n",
    "#    Extract "
   ]
  },
  {
   "cell_type": "code",
   "execution_count": 1,
   "metadata": {},
   "outputs": [],
   "source": [
    "# Imports\n",
    "from Bio import SeqIO\n",
    "import gzip\n",
    "import progressbar"
   ]
  },
  {
   "cell_type": "code",
   "execution_count": 2,
   "metadata": {},
   "outputs": [],
   "source": [
    "# Index UniProt proteins so that we can access via their accessions. \n",
    "#  - Only needs to be run once. Takes a few minutes. \n",
    "\n",
    "data_dir = '../data/'\n",
    "up_gz = data_dir+'uniprot_sprot.dat.bgz'\n",
    "up_db = data_dir+'uniprot_sprot.dat.biopy_db'\n",
    "uniprot = SeqIO.index_db(index_filename=up_db, filenames=up_gz, format=\"swiss\")\n"
   ]
  },
  {
   "cell_type": "code",
   "execution_count": 13,
   "metadata": {},
   "outputs": [],
   "source": [
    "# Index gb_files\n",
    "gb_file=data_dir+\"gbbct60.seq.gz\"\n",
    "#h = gzip.open(gb_file, \"rt\")\n",
    "#r =SeqIO.parse(h, \"gb\").__next__()"
   ]
  },
  {
   "cell_type": "code",
   "execution_count": 28,
   "metadata": {},
   "outputs": [
    {
     "name": "stdout",
     "output_type": "stream",
     "text": [
      "12:56:07\n",
      "15:29:43\n",
      "16:00:24\n"
     ]
    },
    {
     "ename": "KeyboardInterrupt",
     "evalue": "",
     "output_type": "error",
     "traceback": [
      "\u001b[0;31m---------------------------------------------------------------------------\u001b[0m",
      "\u001b[0;31mKeyboardInterrupt\u001b[0m                         Traceback (most recent call last)",
      "\u001b[1;32m/Users/bgoudey/Research/BioDbNetQual/BioDbPropagationEval/notebook/nb_ProteinHistoryPropagation.ipynb Cell 6'\u001b[0m in \u001b[0;36m<cell line: 13>\u001b[0;34m()\u001b[0m\n\u001b[1;32m     <a href='vscode-notebook-cell:/Users/bgoudey/Research/BioDbNetQual/BioDbPropagationEval/notebook/nb_ProteinHistoryPropagation.ipynb#ch0000004?line=9'>10</a>\u001b[0m     \u001b[39mreturn\u001b[39;00m [\u001b[39mid\u001b[39m \u001b[39mfor\u001b[39;00m \u001b[39mid\u001b[39m \u001b[39min\u001b[39;00m r\u001b[39m.\u001b[39mdbxrefs \u001b[39mif\u001b[39;00m \u001b[39mid\u001b[39m[\u001b[39m0\u001b[39m:\u001b[39m6\u001b[39m]\u001b[39m==\u001b[39m\u001b[39m\"\u001b[39m\u001b[39mRefSeq\u001b[39m\u001b[39m\"\u001b[39m \u001b[39mor\u001b[39;00m \u001b[39mid\u001b[39m[\u001b[39m0\u001b[39m:\u001b[39m4\u001b[39m]\u001b[39m==\u001b[39m\u001b[39m\"\u001b[39m\u001b[39mEMBL\u001b[39m\u001b[39m\"\u001b[39m]\n\u001b[1;32m     <a href='vscode-notebook-cell:/Users/bgoudey/Research/BioDbNetQual/BioDbPropagationEval/notebook/nb_ProteinHistoryPropagation.ipynb#ch0000004?line=11'>12</a>\u001b[0m \u001b[39mprint\u001b[39m(datetime\u001b[39m.\u001b[39mnow()\u001b[39m.\u001b[39mstrftime(\u001b[39m\"\u001b[39m\u001b[39m%\u001b[39m\u001b[39mH:\u001b[39m\u001b[39m%\u001b[39m\u001b[39mM:\u001b[39m\u001b[39m%\u001b[39m\u001b[39mS\u001b[39m\u001b[39m\"\u001b[39m))\n\u001b[0;32m---> <a href='vscode-notebook-cell:/Users/bgoudey/Research/BioDbNetQual/BioDbPropagationEval/notebook/nb_ProteinHistoryPropagation.ipynb#ch0000004?line=12'>13</a>\u001b[0m dbxref_tuples\u001b[39m=\u001b[39m[{db_acc\u001b[39m.\u001b[39msplit(\u001b[39m\"\u001b[39m\u001b[39m:\u001b[39m\u001b[39m\"\u001b[39m)[\u001b[39m0\u001b[39m]:(db_acc\u001b[39m.\u001b[39msplit(\u001b[39m\"\u001b[39m\u001b[39m:\u001b[39m\u001b[39m\"\u001b[39m)[\u001b[39m1\u001b[39m], uniprot[acc])}  \u001b[39mfor\u001b[39;00m acc \u001b[39min\u001b[39;00m uniprot \u001b[39mfor\u001b[39;00m db_acc \u001b[39min\u001b[39;00m get_dbxrefs(uniprot[acc]) ]\n\u001b[1;32m     <a href='vscode-notebook-cell:/Users/bgoudey/Research/BioDbNetQual/BioDbPropagationEval/notebook/nb_ProteinHistoryPropagation.ipynb#ch0000004?line=14'>15</a>\u001b[0m \u001b[39mprint\u001b[39m(datetime\u001b[39m.\u001b[39mnow()\u001b[39m.\u001b[39mstrftime(\u001b[39m\"\u001b[39m\u001b[39m%\u001b[39m\u001b[39mH:\u001b[39m\u001b[39m%\u001b[39m\u001b[39mM:\u001b[39m\u001b[39m%\u001b[39m\u001b[39mS\u001b[39m\u001b[39m\"\u001b[39m))\n\u001b[1;32m     <a href='vscode-notebook-cell:/Users/bgoudey/Research/BioDbNetQual/BioDbPropagationEval/notebook/nb_ProteinHistoryPropagation.ipynb#ch0000004?line=15'>16</a>\u001b[0m gb_sp_map\u001b[39m=\u001b[39m{accs[\u001b[39m'\u001b[39m\u001b[39mEMBL\u001b[39m\u001b[39m'\u001b[39m] \u001b[39mfor\u001b[39;00m accs \u001b[39min\u001b[39;00m dbxref_tuples \u001b[39mif\u001b[39;00m \u001b[39m'\u001b[39m\u001b[39mEMBL\u001b[39m\u001b[39m'\u001b[39m \u001b[39min\u001b[39;00m accs}\n",
      "\u001b[1;32m/Users/bgoudey/Research/BioDbNetQual/BioDbPropagationEval/notebook/nb_ProteinHistoryPropagation.ipynb Cell 6'\u001b[0m in \u001b[0;36m<listcomp>\u001b[0;34m(.0)\u001b[0m\n\u001b[1;32m     <a href='vscode-notebook-cell:/Users/bgoudey/Research/BioDbNetQual/BioDbPropagationEval/notebook/nb_ProteinHistoryPropagation.ipynb#ch0000004?line=9'>10</a>\u001b[0m     \u001b[39mreturn\u001b[39;00m [\u001b[39mid\u001b[39m \u001b[39mfor\u001b[39;00m \u001b[39mid\u001b[39m \u001b[39min\u001b[39;00m r\u001b[39m.\u001b[39mdbxrefs \u001b[39mif\u001b[39;00m \u001b[39mid\u001b[39m[\u001b[39m0\u001b[39m:\u001b[39m6\u001b[39m]\u001b[39m==\u001b[39m\u001b[39m\"\u001b[39m\u001b[39mRefSeq\u001b[39m\u001b[39m\"\u001b[39m \u001b[39mor\u001b[39;00m \u001b[39mid\u001b[39m[\u001b[39m0\u001b[39m:\u001b[39m4\u001b[39m]\u001b[39m==\u001b[39m\u001b[39m\"\u001b[39m\u001b[39mEMBL\u001b[39m\u001b[39m\"\u001b[39m]\n\u001b[1;32m     <a href='vscode-notebook-cell:/Users/bgoudey/Research/BioDbNetQual/BioDbPropagationEval/notebook/nb_ProteinHistoryPropagation.ipynb#ch0000004?line=11'>12</a>\u001b[0m \u001b[39mprint\u001b[39m(datetime\u001b[39m.\u001b[39mnow()\u001b[39m.\u001b[39mstrftime(\u001b[39m\"\u001b[39m\u001b[39m%\u001b[39m\u001b[39mH:\u001b[39m\u001b[39m%\u001b[39m\u001b[39mM:\u001b[39m\u001b[39m%\u001b[39m\u001b[39mS\u001b[39m\u001b[39m\"\u001b[39m))\n\u001b[0;32m---> <a href='vscode-notebook-cell:/Users/bgoudey/Research/BioDbNetQual/BioDbPropagationEval/notebook/nb_ProteinHistoryPropagation.ipynb#ch0000004?line=12'>13</a>\u001b[0m dbxref_tuples\u001b[39m=\u001b[39m[{db_acc\u001b[39m.\u001b[39msplit(\u001b[39m\"\u001b[39m\u001b[39m:\u001b[39m\u001b[39m\"\u001b[39m)[\u001b[39m0\u001b[39m]:(db_acc\u001b[39m.\u001b[39msplit(\u001b[39m\"\u001b[39m\u001b[39m:\u001b[39m\u001b[39m\"\u001b[39m)[\u001b[39m1\u001b[39m], uniprot[acc])}  \u001b[39mfor\u001b[39;00m acc \u001b[39min\u001b[39;00m uniprot \u001b[39mfor\u001b[39;00m db_acc \u001b[39min\u001b[39;00m get_dbxrefs(uniprot[acc]) ]\n\u001b[1;32m     <a href='vscode-notebook-cell:/Users/bgoudey/Research/BioDbNetQual/BioDbPropagationEval/notebook/nb_ProteinHistoryPropagation.ipynb#ch0000004?line=14'>15</a>\u001b[0m \u001b[39mprint\u001b[39m(datetime\u001b[39m.\u001b[39mnow()\u001b[39m.\u001b[39mstrftime(\u001b[39m\"\u001b[39m\u001b[39m%\u001b[39m\u001b[39mH:\u001b[39m\u001b[39m%\u001b[39m\u001b[39mM:\u001b[39m\u001b[39m%\u001b[39m\u001b[39mS\u001b[39m\u001b[39m\"\u001b[39m))\n\u001b[1;32m     <a href='vscode-notebook-cell:/Users/bgoudey/Research/BioDbNetQual/BioDbPropagationEval/notebook/nb_ProteinHistoryPropagation.ipynb#ch0000004?line=15'>16</a>\u001b[0m gb_sp_map\u001b[39m=\u001b[39m{accs[\u001b[39m'\u001b[39m\u001b[39mEMBL\u001b[39m\u001b[39m'\u001b[39m] \u001b[39mfor\u001b[39;00m accs \u001b[39min\u001b[39;00m dbxref_tuples \u001b[39mif\u001b[39;00m \u001b[39m'\u001b[39m\u001b[39mEMBL\u001b[39m\u001b[39m'\u001b[39m \u001b[39min\u001b[39;00m accs}\n",
      "File \u001b[0;32m~/Research/BioDbNetQual/BioDbPropagationEval/.env/lib/python3.9/site-packages/Bio/File.py:551\u001b[0m, in \u001b[0;36m_SQLiteManySeqFilesDict.__getitem__\u001b[0;34m(self, key)\u001b[0m\n\u001b[1;32m    <a href='file:///Users/bgoudey/Research/BioDbNetQual/BioDbPropagationEval/.env/lib/python3.9/site-packages/Bio/File.py?line=548'>549</a>\u001b[0m proxies \u001b[39m=\u001b[39m \u001b[39mself\u001b[39m\u001b[39m.\u001b[39m_proxies\n\u001b[1;32m    <a href='file:///Users/bgoudey/Research/BioDbNetQual/BioDbPropagationEval/.env/lib/python3.9/site-packages/Bio/File.py?line=549'>550</a>\u001b[0m \u001b[39mif\u001b[39;00m file_number \u001b[39min\u001b[39;00m proxies:\n\u001b[0;32m--> <a href='file:///Users/bgoudey/Research/BioDbNetQual/BioDbPropagationEval/.env/lib/python3.9/site-packages/Bio/File.py?line=550'>551</a>\u001b[0m     record \u001b[39m=\u001b[39m proxies[file_number]\u001b[39m.\u001b[39;49mget(offset)\n\u001b[1;32m    <a href='file:///Users/bgoudey/Research/BioDbNetQual/BioDbPropagationEval/.env/lib/python3.9/site-packages/Bio/File.py?line=551'>552</a>\u001b[0m \u001b[39melse\u001b[39;00m:\n\u001b[1;32m    <a href='file:///Users/bgoudey/Research/BioDbNetQual/BioDbPropagationEval/.env/lib/python3.9/site-packages/Bio/File.py?line=552'>553</a>\u001b[0m     \u001b[39mif\u001b[39;00m \u001b[39mlen\u001b[39m(proxies) \u001b[39m>\u001b[39m\u001b[39m=\u001b[39m \u001b[39mself\u001b[39m\u001b[39m.\u001b[39m_max_open:\n\u001b[1;32m    <a href='file:///Users/bgoudey/Research/BioDbNetQual/BioDbPropagationEval/.env/lib/python3.9/site-packages/Bio/File.py?line=553'>554</a>\u001b[0m         \u001b[39m# Close an old handle...\u001b[39;00m\n",
      "File \u001b[0;32m~/Research/BioDbNetQual/BioDbPropagationEval/.env/lib/python3.9/site-packages/Bio/SeqIO/_index.py:52\u001b[0m, in \u001b[0;36mSeqFileRandomAccess.get\u001b[0;34m(self, offset)\u001b[0m\n\u001b[1;32m     <a href='file:///Users/bgoudey/Research/BioDbNetQual/BioDbPropagationEval/.env/lib/python3.9/site-packages/Bio/SeqIO/_index.py?line=49'>50</a>\u001b[0m \u001b[39m\"\"\"Return SeqRecord.\"\"\"\u001b[39;00m\n\u001b[1;32m     <a href='file:///Users/bgoudey/Research/BioDbNetQual/BioDbPropagationEval/.env/lib/python3.9/site-packages/Bio/SeqIO/_index.py?line=50'>51</a>\u001b[0m \u001b[39m# Should be overridden for binary file formats etc:\u001b[39;00m\n\u001b[0;32m---> <a href='file:///Users/bgoudey/Research/BioDbNetQual/BioDbPropagationEval/.env/lib/python3.9/site-packages/Bio/SeqIO/_index.py?line=51'>52</a>\u001b[0m \u001b[39mreturn\u001b[39;00m \u001b[39mnext\u001b[39;49m(\u001b[39mself\u001b[39;49m\u001b[39m.\u001b[39;49m_iterator(StringIO(\u001b[39mself\u001b[39;49m\u001b[39m.\u001b[39;49mget_raw(offset)\u001b[39m.\u001b[39;49mdecode())))\n",
      "File \u001b[0;32m~/Research/BioDbNetQual/BioDbPropagationEval/.env/lib/python3.9/site-packages/Bio/SeqIO/SwissIO.py:76\u001b[0m, in \u001b[0;36mSwissIterator\u001b[0;34m(source)\u001b[0m\n\u001b[1;32m     <a href='file:///Users/bgoudey/Research/BioDbNetQual/BioDbPropagationEval/.env/lib/python3.9/site-packages/Bio/SeqIO/SwissIO.py?line=55'>56</a>\u001b[0m \u001b[39m\"\"\"Break up a Swiss-Prot/UniProt file into SeqRecord objects.\u001b[39;00m\n\u001b[1;32m     <a href='file:///Users/bgoudey/Research/BioDbNetQual/BioDbPropagationEval/.env/lib/python3.9/site-packages/Bio/SeqIO/SwissIO.py?line=56'>57</a>\u001b[0m \n\u001b[1;32m     <a href='file:///Users/bgoudey/Research/BioDbNetQual/BioDbPropagationEval/.env/lib/python3.9/site-packages/Bio/SeqIO/SwissIO.py?line=57'>58</a>\u001b[0m \u001b[39mArgument source is a file-like object or a path to a file.\u001b[39;00m\n\u001b[0;32m   (...)\u001b[0m\n\u001b[1;32m     <a href='file:///Users/bgoudey/Research/BioDbNetQual/BioDbPropagationEval/.env/lib/python3.9/site-packages/Bio/SeqIO/SwissIO.py?line=71'>72</a>\u001b[0m \u001b[39mparser via Bio.SeqIO.parse(..., format=\"swiss\") instead.\u001b[39;00m\n\u001b[1;32m     <a href='file:///Users/bgoudey/Research/BioDbNetQual/BioDbPropagationEval/.env/lib/python3.9/site-packages/Bio/SeqIO/SwissIO.py?line=72'>73</a>\u001b[0m \u001b[39m\"\"\"\u001b[39;00m\n\u001b[1;32m     <a href='file:///Users/bgoudey/Research/BioDbNetQual/BioDbPropagationEval/.env/lib/python3.9/site-packages/Bio/SeqIO/SwissIO.py?line=73'>74</a>\u001b[0m swiss_records \u001b[39m=\u001b[39m SwissProt\u001b[39m.\u001b[39mparse(source)\n\u001b[0;32m---> <a href='file:///Users/bgoudey/Research/BioDbNetQual/BioDbPropagationEval/.env/lib/python3.9/site-packages/Bio/SeqIO/SwissIO.py?line=75'>76</a>\u001b[0m \u001b[39mfor\u001b[39;00m swiss_record \u001b[39min\u001b[39;00m swiss_records:\n\u001b[1;32m     <a href='file:///Users/bgoudey/Research/BioDbNetQual/BioDbPropagationEval/.env/lib/python3.9/site-packages/Bio/SeqIO/SwissIO.py?line=76'>77</a>\u001b[0m     \u001b[39m# Convert the SwissProt record to a SeqRecord\u001b[39;00m\n\u001b[1;32m     <a href='file:///Users/bgoudey/Research/BioDbNetQual/BioDbPropagationEval/.env/lib/python3.9/site-packages/Bio/SeqIO/SwissIO.py?line=77'>78</a>\u001b[0m     record \u001b[39m=\u001b[39m SeqRecord(\n\u001b[1;32m     <a href='file:///Users/bgoudey/Research/BioDbNetQual/BioDbPropagationEval/.env/lib/python3.9/site-packages/Bio/SeqIO/SwissIO.py?line=78'>79</a>\u001b[0m         Seq(swiss_record\u001b[39m.\u001b[39msequence),\n\u001b[1;32m     <a href='file:///Users/bgoudey/Research/BioDbNetQual/BioDbPropagationEval/.env/lib/python3.9/site-packages/Bio/SeqIO/SwissIO.py?line=79'>80</a>\u001b[0m         \u001b[39mid\u001b[39m\u001b[39m=\u001b[39mswiss_record\u001b[39m.\u001b[39maccessions[\u001b[39m0\u001b[39m],\n\u001b[0;32m   (...)\u001b[0m\n\u001b[1;32m     <a href='file:///Users/bgoudey/Research/BioDbNetQual/BioDbPropagationEval/.env/lib/python3.9/site-packages/Bio/SeqIO/SwissIO.py?line=82'>83</a>\u001b[0m         features\u001b[39m=\u001b[39mswiss_record\u001b[39m.\u001b[39mfeatures,\n\u001b[1;32m     <a href='file:///Users/bgoudey/Research/BioDbNetQual/BioDbPropagationEval/.env/lib/python3.9/site-packages/Bio/SeqIO/SwissIO.py?line=83'>84</a>\u001b[0m     )\n\u001b[1;32m     <a href='file:///Users/bgoudey/Research/BioDbNetQual/BioDbPropagationEval/.env/lib/python3.9/site-packages/Bio/SeqIO/SwissIO.py?line=84'>85</a>\u001b[0m     \u001b[39mfor\u001b[39;00m cross_reference \u001b[39min\u001b[39;00m swiss_record\u001b[39m.\u001b[39mcross_references:\n",
      "File \u001b[0;32m~/Research/BioDbNetQual/BioDbPropagationEval/.env/lib/python3.9/site-packages/Bio/SwissProt/__init__.py:239\u001b[0m, in \u001b[0;36mparse\u001b[0;34m(source)\u001b[0m\n\u001b[1;32m    <a href='file:///Users/bgoudey/Research/BioDbNetQual/BioDbPropagationEval/.env/lib/python3.9/site-packages/Bio/SwissProt/__init__.py?line=236'>237</a>\u001b[0m \u001b[39mtry\u001b[39;00m:\n\u001b[1;32m    <a href='file:///Users/bgoudey/Research/BioDbNetQual/BioDbPropagationEval/.env/lib/python3.9/site-packages/Bio/SwissProt/__init__.py?line=237'>238</a>\u001b[0m     \u001b[39mwhile\u001b[39;00m \u001b[39mTrue\u001b[39;00m:\n\u001b[0;32m--> <a href='file:///Users/bgoudey/Research/BioDbNetQual/BioDbPropagationEval/.env/lib/python3.9/site-packages/Bio/SwissProt/__init__.py?line=238'>239</a>\u001b[0m         record \u001b[39m=\u001b[39m _read(handle)\n\u001b[1;32m    <a href='file:///Users/bgoudey/Research/BioDbNetQual/BioDbPropagationEval/.env/lib/python3.9/site-packages/Bio/SwissProt/__init__.py?line=239'>240</a>\u001b[0m         \u001b[39mif\u001b[39;00m \u001b[39mnot\u001b[39;00m record:\n\u001b[1;32m    <a href='file:///Users/bgoudey/Research/BioDbNetQual/BioDbPropagationEval/.env/lib/python3.9/site-packages/Bio/SwissProt/__init__.py?line=240'>241</a>\u001b[0m             \u001b[39mreturn\u001b[39;00m\n",
      "File \u001b[0;32m~/Research/BioDbNetQual/BioDbPropagationEval/.env/lib/python3.9/site-packages/Bio/SwissProt/__init__.py:371\u001b[0m, in \u001b[0;36m_read\u001b[0;34m(handle)\u001b[0m\n\u001b[1;32m    <a href='file:///Users/bgoudey/Research/BioDbNetQual/BioDbPropagationEval/.env/lib/python3.9/site-packages/Bio/SwissProt/__init__.py?line=368'>369</a>\u001b[0m     _read_kw(record, value)\n\u001b[1;32m    <a href='file:///Users/bgoudey/Research/BioDbNetQual/BioDbPropagationEval/.env/lib/python3.9/site-packages/Bio/SwissProt/__init__.py?line=369'>370</a>\u001b[0m \u001b[39melif\u001b[39;00m key \u001b[39m==\u001b[39m \u001b[39m\"\u001b[39m\u001b[39mFT\u001b[39m\u001b[39m\"\u001b[39m:\n\u001b[0;32m--> <a href='file:///Users/bgoudey/Research/BioDbNetQual/BioDbPropagationEval/.env/lib/python3.9/site-packages/Bio/SwissProt/__init__.py?line=370'>371</a>\u001b[0m     _read_ft(record, line)\n\u001b[1;32m    <a href='file:///Users/bgoudey/Research/BioDbNetQual/BioDbPropagationEval/.env/lib/python3.9/site-packages/Bio/SwissProt/__init__.py?line=371'>372</a>\u001b[0m \u001b[39melif\u001b[39;00m key \u001b[39m==\u001b[39m \u001b[39m\"\u001b[39m\u001b[39mSQ\u001b[39m\u001b[39m\"\u001b[39m:\n\u001b[1;32m    <a href='file:///Users/bgoudey/Research/BioDbNetQual/BioDbPropagationEval/.env/lib/python3.9/site-packages/Bio/SwissProt/__init__.py?line=372'>373</a>\u001b[0m     cols \u001b[39m=\u001b[39m value\u001b[39m.\u001b[39msplit()\n",
      "File \u001b[0;32m~/Research/BioDbNetQual/BioDbPropagationEval/.env/lib/python3.9/site-packages/Bio/SwissProt/__init__.py:755\u001b[0m, in \u001b[0;36m_read_ft\u001b[0;34m(record, line)\u001b[0m\n\u001b[1;32m    <a href='file:///Users/bgoudey/Research/BioDbNetQual/BioDbPropagationEval/.env/lib/python3.9/site-packages/Bio/SwissProt/__init__.py?line=752'>753</a>\u001b[0m     to_res \u001b[39m=\u001b[39m ExactPosition(position)\n\u001b[1;32m    <a href='file:///Users/bgoudey/Research/BioDbNetQual/BioDbPropagationEval/.env/lib/python3.9/site-packages/Bio/SwissProt/__init__.py?line=753'>754</a>\u001b[0m location \u001b[39m=\u001b[39m FeatureLocation(from_res, to_res, ref\u001b[39m=\u001b[39misoform_id)\n\u001b[0;32m--> <a href='file:///Users/bgoudey/Research/BioDbNetQual/BioDbPropagationEval/.env/lib/python3.9/site-packages/Bio/SwissProt/__init__.py?line=754'>755</a>\u001b[0m feature \u001b[39m=\u001b[39m FeatureTable(\n\u001b[1;32m    <a href='file:///Users/bgoudey/Research/BioDbNetQual/BioDbPropagationEval/.env/lib/python3.9/site-packages/Bio/SwissProt/__init__.py?line=755'>756</a>\u001b[0m     location\u001b[39m=\u001b[39;49mlocation, \u001b[39mtype\u001b[39;49m\u001b[39m=\u001b[39;49mname, \u001b[39mid\u001b[39;49m\u001b[39m=\u001b[39;49m\u001b[39mNone\u001b[39;49;00m, qualifiers\u001b[39m=\u001b[39;49mqualifiers\n\u001b[1;32m    <a href='file:///Users/bgoudey/Research/BioDbNetQual/BioDbPropagationEval/.env/lib/python3.9/site-packages/Bio/SwissProt/__init__.py?line=756'>757</a>\u001b[0m )\n\u001b[1;32m    <a href='file:///Users/bgoudey/Research/BioDbNetQual/BioDbPropagationEval/.env/lib/python3.9/site-packages/Bio/SwissProt/__init__.py?line=757'>758</a>\u001b[0m record\u001b[39m.\u001b[39mfeatures\u001b[39m.\u001b[39mappend(feature)\n\u001b[1;32m    <a href='file:///Users/bgoudey/Research/BioDbNetQual/BioDbPropagationEval/.env/lib/python3.9/site-packages/Bio/SwissProt/__init__.py?line=758'>759</a>\u001b[0m \u001b[39mreturn\u001b[39;00m\n",
      "File \u001b[0;32m~/Research/BioDbNetQual/BioDbPropagationEval/.env/lib/python3.9/site-packages/Bio/SeqFeature.py:92\u001b[0m, in \u001b[0;36mSeqFeature.__init__\u001b[0;34m(self, location, type, location_operator, strand, id, qualifiers, sub_features, ref, ref_db)\u001b[0m\n\u001b[1;32m     <a href='file:///Users/bgoudey/Research/BioDbNetQual/BioDbPropagationEval/.env/lib/python3.9/site-packages/Bio/SeqFeature.py?line=62'>63</a>\u001b[0m \u001b[39mclass\u001b[39;00m \u001b[39mSeqFeature\u001b[39;00m:\n\u001b[1;32m     <a href='file:///Users/bgoudey/Research/BioDbNetQual/BioDbPropagationEval/.env/lib/python3.9/site-packages/Bio/SeqFeature.py?line=63'>64</a>\u001b[0m     \u001b[39m\"\"\"Represent a Sequence Feature on an object.\u001b[39;00m\n\u001b[1;32m     <a href='file:///Users/bgoudey/Research/BioDbNetQual/BioDbPropagationEval/.env/lib/python3.9/site-packages/Bio/SeqFeature.py?line=64'>65</a>\u001b[0m \n\u001b[1;32m     <a href='file:///Users/bgoudey/Research/BioDbNetQual/BioDbPropagationEval/.env/lib/python3.9/site-packages/Bio/SeqFeature.py?line=65'>66</a>\u001b[0m \u001b[39m    Attributes:\u001b[39;00m\n\u001b[0;32m   (...)\u001b[0m\n\u001b[1;32m     <a href='file:///Users/bgoudey/Research/BioDbNetQual/BioDbPropagationEval/.env/lib/python3.9/site-packages/Bio/SeqFeature.py?line=88'>89</a>\u001b[0m \n\u001b[1;32m     <a href='file:///Users/bgoudey/Research/BioDbNetQual/BioDbPropagationEval/.env/lib/python3.9/site-packages/Bio/SeqFeature.py?line=89'>90</a>\u001b[0m \u001b[39m    \"\"\"\u001b[39;00m\n\u001b[0;32m---> <a href='file:///Users/bgoudey/Research/BioDbNetQual/BioDbPropagationEval/.env/lib/python3.9/site-packages/Bio/SeqFeature.py?line=91'>92</a>\u001b[0m     \u001b[39mdef\u001b[39;00m \u001b[39m__init__\u001b[39m(\n\u001b[1;32m     <a href='file:///Users/bgoudey/Research/BioDbNetQual/BioDbPropagationEval/.env/lib/python3.9/site-packages/Bio/SeqFeature.py?line=92'>93</a>\u001b[0m         \u001b[39mself\u001b[39m,\n\u001b[1;32m     <a href='file:///Users/bgoudey/Research/BioDbNetQual/BioDbPropagationEval/.env/lib/python3.9/site-packages/Bio/SeqFeature.py?line=93'>94</a>\u001b[0m         location\u001b[39m=\u001b[39m\u001b[39mNone\u001b[39;00m,\n\u001b[1;32m     <a href='file:///Users/bgoudey/Research/BioDbNetQual/BioDbPropagationEval/.env/lib/python3.9/site-packages/Bio/SeqFeature.py?line=94'>95</a>\u001b[0m         \u001b[39mtype\u001b[39m\u001b[39m=\u001b[39m\u001b[39m\"\u001b[39m\u001b[39m\"\u001b[39m,\n\u001b[1;32m     <a href='file:///Users/bgoudey/Research/BioDbNetQual/BioDbPropagationEval/.env/lib/python3.9/site-packages/Bio/SeqFeature.py?line=95'>96</a>\u001b[0m         location_operator\u001b[39m=\u001b[39m\u001b[39m\"\u001b[39m\u001b[39m\"\u001b[39m,\n\u001b[1;32m     <a href='file:///Users/bgoudey/Research/BioDbNetQual/BioDbPropagationEval/.env/lib/python3.9/site-packages/Bio/SeqFeature.py?line=96'>97</a>\u001b[0m         strand\u001b[39m=\u001b[39m\u001b[39mNone\u001b[39;00m,\n\u001b[1;32m     <a href='file:///Users/bgoudey/Research/BioDbNetQual/BioDbPropagationEval/.env/lib/python3.9/site-packages/Bio/SeqFeature.py?line=97'>98</a>\u001b[0m         \u001b[39mid\u001b[39m\u001b[39m=\u001b[39m\u001b[39m\"\u001b[39m\u001b[39m<unknown id>\u001b[39m\u001b[39m\"\u001b[39m,\n\u001b[1;32m     <a href='file:///Users/bgoudey/Research/BioDbNetQual/BioDbPropagationEval/.env/lib/python3.9/site-packages/Bio/SeqFeature.py?line=98'>99</a>\u001b[0m         qualifiers\u001b[39m=\u001b[39m\u001b[39mNone\u001b[39;00m,\n\u001b[1;32m    <a href='file:///Users/bgoudey/Research/BioDbNetQual/BioDbPropagationEval/.env/lib/python3.9/site-packages/Bio/SeqFeature.py?line=99'>100</a>\u001b[0m         sub_features\u001b[39m=\u001b[39m\u001b[39mNone\u001b[39;00m,\n\u001b[1;32m    <a href='file:///Users/bgoudey/Research/BioDbNetQual/BioDbPropagationEval/.env/lib/python3.9/site-packages/Bio/SeqFeature.py?line=100'>101</a>\u001b[0m         ref\u001b[39m=\u001b[39m\u001b[39mNone\u001b[39;00m,\n\u001b[1;32m    <a href='file:///Users/bgoudey/Research/BioDbNetQual/BioDbPropagationEval/.env/lib/python3.9/site-packages/Bio/SeqFeature.py?line=101'>102</a>\u001b[0m         ref_db\u001b[39m=\u001b[39m\u001b[39mNone\u001b[39;00m,\n\u001b[1;32m    <a href='file:///Users/bgoudey/Research/BioDbNetQual/BioDbPropagationEval/.env/lib/python3.9/site-packages/Bio/SeqFeature.py?line=102'>103</a>\u001b[0m     ):\n\u001b[1;32m    <a href='file:///Users/bgoudey/Research/BioDbNetQual/BioDbPropagationEval/.env/lib/python3.9/site-packages/Bio/SeqFeature.py?line=103'>104</a>\u001b[0m         \u001b[39m\"\"\"Initialize a SeqFeature on a Sequence.\u001b[39;00m\n\u001b[1;32m    <a href='file:///Users/bgoudey/Research/BioDbNetQual/BioDbPropagationEval/.env/lib/python3.9/site-packages/Bio/SeqFeature.py?line=104'>105</a>\u001b[0m \n\u001b[1;32m    <a href='file:///Users/bgoudey/Research/BioDbNetQual/BioDbPropagationEval/.env/lib/python3.9/site-packages/Bio/SeqFeature.py?line=105'>106</a>\u001b[0m \u001b[39m        location can either be a FeatureLocation (with strand argument also\u001b[39;00m\n\u001b[0;32m   (...)\u001b[0m\n\u001b[1;32m    <a href='file:///Users/bgoudey/Research/BioDbNetQual/BioDbPropagationEval/.env/lib/python3.9/site-packages/Bio/SeqFeature.py?line=145'>146</a>\u001b[0m \u001b[39m        be used, instead do this via the CompoundLocation object.\u001b[39;00m\n\u001b[1;32m    <a href='file:///Users/bgoudey/Research/BioDbNetQual/BioDbPropagationEval/.env/lib/python3.9/site-packages/Bio/SeqFeature.py?line=146'>147</a>\u001b[0m \u001b[39m        \"\"\"\u001b[39;00m\n\u001b[1;32m    <a href='file:///Users/bgoudey/Research/BioDbNetQual/BioDbPropagationEval/.env/lib/python3.9/site-packages/Bio/SeqFeature.py?line=147'>148</a>\u001b[0m         \u001b[39mif\u001b[39;00m (\n\u001b[1;32m    <a href='file:///Users/bgoudey/Research/BioDbNetQual/BioDbPropagationEval/.env/lib/python3.9/site-packages/Bio/SeqFeature.py?line=148'>149</a>\u001b[0m             location \u001b[39mis\u001b[39;00m \u001b[39mnot\u001b[39;00m \u001b[39mNone\u001b[39;00m\n\u001b[1;32m    <a href='file:///Users/bgoudey/Research/BioDbNetQual/BioDbPropagationEval/.env/lib/python3.9/site-packages/Bio/SeqFeature.py?line=149'>150</a>\u001b[0m             \u001b[39mand\u001b[39;00m \u001b[39mnot\u001b[39;00m \u001b[39misinstance\u001b[39m(location, FeatureLocation)\n\u001b[1;32m    <a href='file:///Users/bgoudey/Research/BioDbNetQual/BioDbPropagationEval/.env/lib/python3.9/site-packages/Bio/SeqFeature.py?line=150'>151</a>\u001b[0m             \u001b[39mand\u001b[39;00m \u001b[39mnot\u001b[39;00m \u001b[39misinstance\u001b[39m(location, CompoundLocation)\n\u001b[1;32m    <a href='file:///Users/bgoudey/Research/BioDbNetQual/BioDbPropagationEval/.env/lib/python3.9/site-packages/Bio/SeqFeature.py?line=151'>152</a>\u001b[0m         ):\n",
      "File \u001b[0;32m_pydevd_bundle/pydevd_cython.pyx:1366\u001b[0m, in \u001b[0;36m_pydevd_bundle.pydevd_cython.SafeCallWrapper.__call__\u001b[0;34m()\u001b[0m\n",
      "File \u001b[0;32m_pydevd_bundle/pydevd_cython.pyx:1667\u001b[0m, in \u001b[0;36m_pydevd_bundle.pydevd_cython.ThreadTracer.__call__\u001b[0;34m()\u001b[0m\n",
      "File \u001b[0;32m~/Research/BioDbNetQual/BioDbPropagationEval/.env/lib/python3.9/site-packages/debugpy/_vendored/pydevd/_pydev_bundle/pydev_is_thread_alive.py:9\u001b[0m, in \u001b[0;36mis_thread_alive\u001b[0;34m(t)\u001b[0m\n\u001b[1;32m      <a href='file:///Users/bgoudey/Research/BioDbNetQual/BioDbPropagationEval/.env/lib/python3.9/site-packages/debugpy/_vendored/pydevd/_pydev_bundle/pydev_is_thread_alive.py?line=5'>6</a>\u001b[0m _temp \u001b[39m=\u001b[39m threading\u001b[39m.\u001b[39mThread()\n\u001b[1;32m      <a href='file:///Users/bgoudey/Research/BioDbNetQual/BioDbPropagationEval/.env/lib/python3.9/site-packages/debugpy/_vendored/pydevd/_pydev_bundle/pydev_is_thread_alive.py?line=6'>7</a>\u001b[0m \u001b[39mif\u001b[39;00m \u001b[39mhasattr\u001b[39m(_temp, \u001b[39m'\u001b[39m\u001b[39m_is_stopped\u001b[39m\u001b[39m'\u001b[39m):  \u001b[39m# Python 3.x has this\u001b[39;00m\n\u001b[0;32m----> <a href='file:///Users/bgoudey/Research/BioDbNetQual/BioDbPropagationEval/.env/lib/python3.9/site-packages/debugpy/_vendored/pydevd/_pydev_bundle/pydev_is_thread_alive.py?line=8'>9</a>\u001b[0m     \u001b[39mdef\u001b[39;00m \u001b[39mis_thread_alive\u001b[39m(t):\n\u001b[1;32m     <a href='file:///Users/bgoudey/Research/BioDbNetQual/BioDbPropagationEval/.env/lib/python3.9/site-packages/debugpy/_vendored/pydevd/_pydev_bundle/pydev_is_thread_alive.py?line=9'>10</a>\u001b[0m         \u001b[39mreturn\u001b[39;00m \u001b[39mnot\u001b[39;00m t\u001b[39m.\u001b[39m_is_stopped\n\u001b[1;32m     <a href='file:///Users/bgoudey/Research/BioDbNetQual/BioDbPropagationEval/.env/lib/python3.9/site-packages/debugpy/_vendored/pydevd/_pydev_bundle/pydev_is_thread_alive.py?line=11'>12</a>\u001b[0m \u001b[39melif\u001b[39;00m \u001b[39mhasattr\u001b[39m(_temp, \u001b[39m'\u001b[39m\u001b[39m_Thread__stopped\u001b[39m\u001b[39m'\u001b[39m):  \u001b[39m# Python 2.x has this\u001b[39;00m\n",
      "\u001b[0;31mKeyboardInterrupt\u001b[0m: "
     ]
    }
   ],
   "source": [
    "# Create a mapping from GenBank and RefSeq to SwissProt record. \n",
    "from datetime import datetime\n",
    "from netdbqual import utils; classify_acc(acc)\n",
    "print(datetime.now().strftime(\"%H:%M:%S\"))\n",
    "gb_sp_map={id.split(\":\")[1]:r  for r in uniprot for id in uniprot[r].dbxrefs if id[0:4]==\"EMBL\"}\n",
    "print(datetime.now().strftime(\"%H:%M:%S\"))\n",
    "rs_sp_map={id.split(\":\")[1]:r  for r in uniprot for id in uniprot[r].dbxrefs if id[0:6]==\"RefSeq\"}\n",
    "\n",
    "def get_dbxrefs(r):\n",
    "    return [id for id in r.dbxrefs if id[0:6]==\"RefSeq\" or id[0:4]==\"EMBL\"]\n",
    "\n",
    "print(datetime.now().strftime(\"%H:%M:%S\"))\n",
    "dbxref_tuples=[{db_acc.split(\":\")[0]:(db_acc.split(\":\")[1], uniprot[acc])}  for acc in uniprot for db_acc in get_dbxrefs(uniprot[acc]) ]\n",
    "\n",
    "print(datetime.now().strftime(\"%H:%M:%S\"))\n",
    "gb_sp_map={accs['EMBL'] for accs in dbxref_tuples if 'EMBL' in accs}\n",
    "rs_sp_map={accs['RefSeq'] for accs in dbxref_tuples if 'RefSeq' in accs}\n",
    "print(datetime.now().strftime(\"%H:%M:%S\"))\n"
   ]
  },
  {
   "cell_type": "code",
   "execution_count": 4,
   "metadata": {},
   "outputs": [],
   "source": [
    "import re \n",
    "exec(open(\"../netdbqual/utils.py\").read())\n",
    "\n",
    "gb_file=\"gbbct15.seq.gz\"\n",
    "gbs_iter=SeqIO.parse(gzip.open(data_dir + gb_file, \"rt\"), \"gb\")\n",
    "#gbs_cut=[gbs_iter.__next__() for i in range(300)]\n",
    "\n",
    "#For each genome sequence,\n",
    "gb_file_no_ext=gb_file.split(\".\")[0]\n"
   ]
  },
  {
   "cell_type": "code",
   "execution_count": 27,
   "metadata": {},
   "outputs": [
    {
     "name": "stdout",
     "output_type": "stream",
     "text": [
      "81\n",
      "0\n",
      "1\n",
      "2\n",
      "3\n",
      "4\n",
      "5\n",
      "6\n",
      "7\n",
      "8\n",
      "9\n"
     ]
    }
   ],
   "source": [
    "exec(open(\"../netdbqual/utils.py\").read())\n",
    "import glob\n",
    "from os import path\n",
    "gb_file=\"gbbct*.seq.gz\"\n",
    "\n",
    "\n",
    "def parse_gb_protein_gff(p):\n",
    "\n",
    "    if 'molecule_type' not in p.annotations:\n",
    "        return ([],[])\n",
    "\n",
    "\n",
    "    prod=p.description.split(' [')[0] \n",
    "\n",
    "    if 'organism' not in p.annotations:\n",
    "        return  ([],[])\n",
    "\n",
    "    db=classify_acc(p.id)[0]\n",
    "    if db!='genbank':\n",
    "        a=1\n",
    "        print(\"XXX\")\n",
    "\n",
    "    id,seq_ver=p.id.split('.')\n",
    "\n",
    "    node=\",\".join([       \n",
    "                p.id,  \n",
    "                seq_ver,           \n",
    "                prod,\n",
    "                p.annotations['organism'],\n",
    "                db,\n",
    "                str(p.seq)\n",
    "            ])\n",
    "    return ([node], [])\n",
    "\n",
    "\n",
    "def parse_gb_protein(p):\n",
    "\n",
    "    if p.type!=\"CDS\" or 'pseudo'  in p.qualifiers or 'pseudogene'  in p.qualifiers:\n",
    "        return ([],[])\n",
    "\n",
    "    if 'protein_id' not in p.qualifiers:\n",
    "        return  ([],[])\n",
    "\n",
    "    prod=\"\"\n",
    "    if 'product' in p.qualifiers:\n",
    "        prod=p.qualifiers['product'][0] \n",
    "\n",
    "    if 'organism' not in r.annotations:\n",
    "        return  ([],[])\n",
    "\n",
    "    db=classify_acc(p.qualifiers['protein_id'][0])[0]\n",
    "    if db!='genbank':\n",
    "        a=1\n",
    "        print(\"XXX\")\n",
    "\n",
    "    id,seq_ver=p.qualifiers['protein_id'][0].split('.')\n",
    "    node=\",\".join([       \n",
    "                p.id,  \n",
    "                seq_ver,            \n",
    "                prod,\n",
    "                r.annotations['organism'],\n",
    "                classify_acc(p.qualifiers['protein_id'][0])[0],\n",
    "                p.qualifiers['translation'][0]     \n",
    "            ])\n",
    "    return (node, [])\n",
    "\n",
    "\n",
    "def parse_gb_nuc(r):\n",
    "    # look at all CDS \n",
    "    print(j)\n",
    "    nodes=[]\n",
    "    edges=[]\n",
    "\n",
    "    for p in r.features:\n",
    "        node,edge=parse_gb_protein(p)\n",
    "        nodes=nodes+node\n",
    "        edges=edges+edges\n",
    "    return(nodes, edges)\n",
    "\n",
    "#for i,f in enumerate(glob.glob(data_dir + gb_file)):\n",
    "#f=\"../../220411_ExamineFunction/data/EC3_4_11_4/EC_3_4_11_4_SP_sequence.gpk\"\n",
    "f=data_dir + \"tmp_EC_3_4_11_4_partial_sequence.gpk\"\n",
    "if 1:\n",
    "    #gbs_iter=SeqIO.parse(gzip.open(f, \"rt\"), \"gb\")\n",
    "    gbs_iter=SeqIO.parse(f, \"gb\")\n",
    "    gb_file_no_ext=path.basename(f).split(\".\")[0]\n",
    "    print(i)\n",
    "    \n",
    "    nodes=[]\n",
    "    edges=[]\n",
    "    with open(data_dir + gb_file_no_ext+'_node.csv', \"w\") as node_file:\n",
    "        with open(data_dir + gb_file_no_ext+'_edge.csv', \"w\") as edge_file:            \n",
    "            for j,r in enumerate(gbs_iter):\n",
    "                # look at all CDS \n",
    "                print(j)\n",
    "                (db,seq_type)=classify_acc(r.id)\n",
    "                if seq_type==\"nuc\":\n",
    "                    nodes,edges=parse_gb_nuc(r)\n",
    "                elif seq_type==\"protein\":                    \n",
    "                    nodes,edges=parse_gb_protein_gff(r)\n",
    "                else:\n",
    "                    print(\"Problem\")\n",
    "                    sdfsdfsd\n",
    "\n",
    "\n",
    "\n",
    "                node_file.writelines(nodes)\n",
    "                "
   ]
  },
  {
   "cell_type": "code",
   "execution_count": null,
   "metadata": {},
   "outputs": [],
   "source": [
    "# For each set of genbank records (gb*.seq.gz)\n",
    "#  Extract record\n",
    "#  Download history\n",
    "#  "
   ]
  }
 ],
 "metadata": {
  "interpreter": {
   "hash": "4d8eea3e487bd2e3b9ae8892f2b688f4310b47e90c9d4741ca489326e81f87fc"
  },
  "kernelspec": {
   "display_name": "Python 3.9.12 ('.env': venv)",
   "language": "python",
   "name": "python3"
  },
  "language_info": {
   "codemirror_mode": {
    "name": "ipython",
    "version": 3
   },
   "file_extension": ".py",
   "mimetype": "text/x-python",
   "name": "python",
   "nbconvert_exporter": "python",
   "pygments_lexer": "ipython3",
   "version": "3.9.12"
  },
  "orig_nbformat": 4
 },
 "nbformat": 4,
 "nbformat_minor": 2
}
