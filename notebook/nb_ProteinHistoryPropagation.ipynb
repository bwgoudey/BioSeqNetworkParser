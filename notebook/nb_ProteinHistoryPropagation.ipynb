{
 "cells": [
  {
   "cell_type": "markdown",
   "metadata": {},
   "source": [
    "# Exploring propagation of record changes across databases and annotations"
   ]
  },
  {
   "cell_type": "code",
   "execution_count": 6,
   "metadata": {},
   "outputs": [],
   "source": [
    "# Imports\n",
    "from Bio import SeqIO\n",
    "import gzip\n",
    "import progressbar\n",
    "import glob\n",
    "import re \n",
    "\n",
    "from os import path\n",
    "import sys\n",
    "sys.path.append('../')\n",
    "\n",
    "import netdbqual.classify_acc as ca\n",
    "import netdbqual.parser as parser\n",
    "from importlib import reload  # Python 3.4+\n",
    "data_dir = '../data/'"
   ]
  },
  {
   "cell_type": "markdown",
   "metadata": {},
   "source": [
    "# Index UniProt proteins so that we can access via their accessions. \n",
    "#  - Only needs to be run once. Takes a few minutes. \n",
    "\n",
    "\n",
    "up_gz = data_dir+'uniprot_sprot.dat.bgz'\n",
    "up_db = data_dir+'uniprot_sprot.dat.biopy_db'\n",
    "uniprot = SeqIO.index_db(index_filename=up_db, filenames=up_gz, format=\"swiss\")\n"
   ]
  },
  {
   "cell_type": "markdown",
   "metadata": {},
   "source": [
    "import re \n",
    "exec(open(\"../netdbqual/utils.py\").read())\n",
    "\n",
    "gb_file=\"gbbct15.seq.gz\"\n",
    "gbs_iter=SeqIO.parse(gzip.open(data_dir + gb_file, \"rt\"), \"gb\")\n",
    "#gbs_cut=[gbs_iter.__next__() for i in range(300)]\n",
    "\n",
    "#For each genome sequence,\n",
    "gb_file_no_ext=gb_file.split(\".\")[0]\n"
   ]
  },
  {
   "cell_type": "code",
   "execution_count": 11,
   "metadata": {},
   "outputs": [
    {
     "ename": "RuntimeError",
     "evalue": "No active exception to reraise",
     "output_type": "error",
     "traceback": [
      "\u001b[0;31m---------------------------------------------------------------------------\u001b[0m",
      "\u001b[0;31mRuntimeError\u001b[0m                              Traceback (most recent call last)",
      "\u001b[1;32m/Users/bgoudey/Research/BioDbNetQual/BioDbPropagationEval/notebook/nb_ProteinHistoryPropagation.ipynb Cell 5'\u001b[0m in \u001b[0;36m<cell line: 16>\u001b[0;34m()\u001b[0m\n\u001b[1;32m     <a href='vscode-notebook-cell:/Users/bgoudey/Research/BioDbNetQual/BioDbPropagationEval/notebook/nb_ProteinHistoryPropagation.ipynb#ch0000005?line=23'>24</a>\u001b[0m \u001b[39mfor\u001b[39;00m j,r \u001b[39min\u001b[39;00m \u001b[39menumerate\u001b[39m(gbs_iter):\n\u001b[1;32m     <a href='vscode-notebook-cell:/Users/bgoudey/Research/BioDbNetQual/BioDbPropagationEval/notebook/nb_ProteinHistoryPropagation.ipynb#ch0000005?line=24'>25</a>\u001b[0m     \u001b[39m# look at all CDS \u001b[39;00m\n\u001b[1;32m     <a href='vscode-notebook-cell:/Users/bgoudey/Research/BioDbNetQual/BioDbPropagationEval/notebook/nb_ProteinHistoryPropagation.ipynb#ch0000005?line=25'>26</a>\u001b[0m     (db,seq_type)\u001b[39m=\u001b[39mca\u001b[39m.\u001b[39mclassify_acc(r\u001b[39m.\u001b[39mid)\n\u001b[0;32m---> <a href='vscode-notebook-cell:/Users/bgoudey/Research/BioDbNetQual/BioDbPropagationEval/notebook/nb_ProteinHistoryPropagation.ipynb#ch0000005?line=26'>27</a>\u001b[0m     nodes,edges\u001b[39m=\u001b[39mparser\u001b[39m.\u001b[39;49mparseRecord(r, db, seq_type) \n\u001b[1;32m     <a href='vscode-notebook-cell:/Users/bgoudey/Research/BioDbNetQual/BioDbPropagationEval/notebook/nb_ProteinHistoryPropagation.ipynb#ch0000005?line=27'>28</a>\u001b[0m     \u001b[39mprint\u001b[39m(j)\n\u001b[1;32m     <a href='vscode-notebook-cell:/Users/bgoudey/Research/BioDbNetQual/BioDbPropagationEval/notebook/nb_ProteinHistoryPropagation.ipynb#ch0000005?line=29'>30</a>\u001b[0m     \u001b[39mif\u001b[39;00m edges:\n",
      "File \u001b[0;32m~/Research/BioDbNetQual/BioDbPropagationEval/notebook/../netdbqual/parser.py:339\u001b[0m, in \u001b[0;36mparseRecord\u001b[0;34m(r, db, seq_type)\u001b[0m\n\u001b[1;32m    <a href='file:///Users/bgoudey/Research/BioDbNetQual/BioDbPropagationEval/notebook/../netdbqual/parser.py?line=336'>337</a>\u001b[0m organism\u001b[39m=\u001b[39mextractOrganism(r\u001b[39m.\u001b[39mannotations)\n\u001b[1;32m    <a href='file:///Users/bgoudey/Research/BioDbNetQual/BioDbPropagationEval/notebook/../netdbqual/parser.py?line=337'>338</a>\u001b[0m taxonomy\u001b[39m=\u001b[39mextractTaxonomy(r\u001b[39m.\u001b[39mannotations)\n\u001b[0;32m--> <a href='file:///Users/bgoudey/Research/BioDbNetQual/BioDbPropagationEval/notebook/../netdbqual/parser.py?line=338'>339</a>\u001b[0m taxa_id\u001b[39m=\u001b[39mextractTaxaID(r\u001b[39m.\u001b[39;49mfeatures[\u001b[39m0\u001b[39;49m])\n\u001b[1;32m    <a href='file:///Users/bgoudey/Research/BioDbNetQual/BioDbPropagationEval/notebook/../netdbqual/parser.py?line=340'>341</a>\u001b[0m date_upload\u001b[39m=\u001b[39mextractDateModified(r, rec_type)\n\u001b[1;32m    <a href='file:///Users/bgoudey/Research/BioDbNetQual/BioDbPropagationEval/notebook/../netdbqual/parser.py?line=341'>342</a>\u001b[0m date_modified\u001b[39m=\u001b[39mextractDateLastModified(r, rec_type)\n",
      "File \u001b[0;32m~/Research/BioDbNetQual/BioDbPropagationEval/notebook/../netdbqual/parser.py:38\u001b[0m, in \u001b[0;36mextractTaxaID\u001b[0;34m(source_feat)\u001b[0m\n\u001b[1;32m     <a href='file:///Users/bgoudey/Research/BioDbNetQual/BioDbPropagationEval/notebook/../netdbqual/parser.py?line=33'>34</a>\u001b[0m \u001b[39mdef\u001b[39;00m \u001b[39mextractTaxaID\u001b[39m(source_feat):\n\u001b[1;32m     <a href='file:///Users/bgoudey/Research/BioDbNetQual/BioDbPropagationEval/notebook/../netdbqual/parser.py?line=34'>35</a>\u001b[0m \n\u001b[1;32m     <a href='file:///Users/bgoudey/Research/BioDbNetQual/BioDbPropagationEval/notebook/../netdbqual/parser.py?line=35'>36</a>\u001b[0m     \u001b[39m#taxid={f.type:f for f in r.features}['source'].f.\u001b[39;00m\n\u001b[1;32m     <a href='file:///Users/bgoudey/Research/BioDbNetQual/BioDbPropagationEval/notebook/../netdbqual/parser.py?line=36'>37</a>\u001b[0m     \u001b[39mif\u001b[39;00m source_feat\u001b[39m.\u001b[39mtype\u001b[39m!=\u001b[39m\u001b[39m\"\u001b[39m\u001b[39msource\u001b[39m\u001b[39m\"\u001b[39m:\n\u001b[0;32m---> <a href='file:///Users/bgoudey/Research/BioDbNetQual/BioDbPropagationEval/notebook/../netdbqual/parser.py?line=37'>38</a>\u001b[0m         \u001b[39mraise\u001b[39;00m\n\u001b[1;32m     <a href='file:///Users/bgoudey/Research/BioDbNetQual/BioDbPropagationEval/notebook/../netdbqual/parser.py?line=38'>39</a>\u001b[0m     \u001b[39mreturn\u001b[39;00m(source_feat\u001b[39m.\u001b[39mqualifiers[\u001b[39m'\u001b[39m\u001b[39mdb_xref\u001b[39m\u001b[39m'\u001b[39m][\u001b[39m0\u001b[39m])\n",
      "\u001b[0;31mRuntimeError\u001b[0m: No active exception to reraise"
     ]
    }
   ],
   "source": [
    "#exec(open(\"../netdbqual/utils.py\").read())\n",
    "#exec(open(\"../netdbqual/parser.py\").read())\n",
    "\n",
    "reload(parser)\n",
    "\n",
    "\n",
    "#for i,f in enumerate(glob.glob(data_dir + gb_file)):\n",
    "#f=\"../../220411_ExamineFunction/data/EC3_4_11_4/EC_3_4_11_4_SP_sequence.gpk\"\n",
    "#f=data_dir + \"tmp_EC_3_4_11_4_partial_sequence.gpk\"\n",
    "#f=data_dir + \"tmp_EC_3_4_11_4_partial_sequence_append.gp\"\n",
    "\n",
    "f= data_dir+'uniprot_sprot.dat'\n",
    "if 1:\n",
    "    \n",
    "    #gbs_iter=SeqIO.parse(gzip.open(f, \"rt\"), \"gb\")\n",
    "    gbs_iter=SeqIO.parse(f, \"swiss\")\n",
    "    gb_file_no_ext=path.basename(f).split(\".\")[0]\n",
    "    #print(i)\n",
    "    \n",
    "    nodes=[]\n",
    "    edges=[]\n",
    "    with open(data_dir + gb_file_no_ext+'_node.csv', \"w\") as node_file:\n",
    "        with open(data_dir + gb_file_no_ext+'_edge.csv', \"w\") as edge_file:            \n",
    "            for j,r in enumerate(gbs_iter):\n",
    "                # look at all CDS \n",
    "                (db,seq_type)=ca.classify_acc(r.id)\n",
    "                nodes,edges=parser.parseRecord(r, db, seq_type) \n",
    "                print(j)\n",
    "   \n",
    "                if edges:\n",
    "                    edge_file.write('\\n'.join(edges)+\"\\n\")\n",
    "                if nodes:\n",
    "                     node_file.write('\\n'.join(nodes)+\"\\n\")\n",
    "                #1\n",
    "                "
   ]
  },
  {
   "cell_type": "code",
   "execution_count": null,
   "metadata": {},
   "outputs": [],
   "source": [
    "# For each set of genbank records (gb*.seq.gz)\n",
    "#  Extract record\n",
    "#  Download history\n",
    "#  "
   ]
  }
 ],
 "metadata": {
  "interpreter": {
   "hash": "5529c22741fb3612e1b1905beaf09601448de6653516cbe6a05cdc979d40a863"
  },
  "kernelspec": {
   "display_name": "Python 3.9.12 ('.pypy_env': venv)",
   "language": "python",
   "name": "python3"
  },
  "language_info": {
   "codemirror_mode": {
    "name": "ipython",
    "version": 3
   },
   "file_extension": ".py",
   "mimetype": "text/x-python",
   "name": "python",
   "nbconvert_exporter": "python",
   "pygments_lexer": "ipython3",
   "version": "3.9.12"
  },
  "orig_nbformat": 4
 },
 "nbformat": 4,
 "nbformat_minor": 2
}
