{
 "cells": [
  {
   "cell_type": "markdown",
   "metadata": {},
   "source": [
    "# Exploring propagation of record changes across databases and annotations"
   ]
  },
  {
   "cell_type": "code",
   "execution_count": 2,
   "metadata": {},
   "outputs": [],
   "source": [
    "# For each record in SwissProt\n",
    "#    Extract Taxa\n",
    "#    Extract ProteinName and Subname\n",
    "#    Extract "
   ]
  },
  {
   "cell_type": "code",
   "execution_count": 4,
   "metadata": {},
   "outputs": [],
   "source": [
    "# Imports\n",
    "from Bio import SeqIO\n",
    "import gzip"
   ]
  },
  {
   "cell_type": "code",
   "execution_count": 12,
   "metadata": {},
   "outputs": [],
   "source": [
    "# Index UniProt proteins so that we can access via their accessions. \n",
    "#  - Only needs to be run once. Takes a few minutes. \n",
    "\n",
    "data_dir = '../data/'\n",
    "up_gz = data_dir+'uniprot_sprot.dat.bgz'\n",
    "up_db = data_dir+'uniprot_sprot.dat.biopy_db'\n",
    "uniprot = SeqIO.index_db(index_filename=up_db, filenames=up_gz, format=\"swiss\")\n"
   ]
  },
  {
   "cell_type": "code",
   "execution_count": 13,
   "metadata": {},
   "outputs": [],
   "source": [
    "# Index gb_files\n",
    "gb_file=data_dir+\"gbbct60.seq.gz\"\n",
    "#h = gzip.open(gb_file, \"rt\")\n",
    "#r =SeqIO.parse(h, \"gb\").__next__()"
   ]
  },
  {
   "cell_type": "code",
   "execution_count": 26,
   "metadata": {},
   "outputs": [],
   "source": [
    "# Create a mapping from UniProt to GenBank and RefSeq. \n",
    "#gb_sp_map={id.split(\":\")[1]:r  for r in uniprot for id in uniprot[r].dbxrefs if id[0:4]==\"EMBL\"}\n",
    "#rs_sp_map={id.split(\":\")[1]:r  for r in uniprot for id in uniprot[r].dbxrefs if id[0:6]==\"RefSeq\"}\n",
    "def check_db(r):\n",
    "    return any([id[0:6]==\"RefSeq\" or id[0:4]==\"EMBL\" for id in r.dbxrefs])\n",
    "\n",
    "def db_tuple(r):\n",
    "    embl=(None,None)\n",
    "    rs=(None,None)\n",
    "    for db_acc in r.dbxrefs:\n",
    "        (db,acc)=db_acc.split(\":\")\n",
    "        if db==\"RefSeq\":\n",
    "            rs=(acc,r)\n",
    "        if db==\"EMBL\":\n",
    "            embl=(acc,r)\n",
    "    return(embl,rs)\n",
    "\n",
    "\n",
    "dbxref_tuples=[db_tuple(uniprot[acc])  for acc in uniprot if check_db(uniprot[acc]) ]\n",
    "gb_sp_map={acc:r for ((acc,r),_) in dbxref_tuples if acc is not None}\n",
    "gb_sp_map={acc:r for (_,(acc,r)) in dbxref_tuples if acc is not None}\n"
   ]
  },
  {
   "cell_type": "code",
   "execution_count": null,
   "metadata": {},
   "outputs": [],
   "source": []
  },
  {
   "cell_type": "code",
   "execution_count": 48,
   "metadata": {},
   "outputs": [
    {
     "ename": "KeyboardInterrupt",
     "evalue": "",
     "output_type": "error",
     "traceback": [
      "\u001b[0;31m---------------------------------------------------------------------------\u001b[0m",
      "\u001b[0;31mKeyboardInterrupt\u001b[0m                         Traceback (most recent call last)",
      "\u001b[1;32m/home/bwgoudey/Research2/BioDbNetQual/220411_ExamineFunction/notebook/nb_ProteinHistoryPropagation.ipynb Cell 7'\u001b[0m in \u001b[0;36m<cell line: 2>\u001b[0;34m()\u001b[0m\n\u001b[1;32m      <a href='vscode-notebook-cell:/home/bwgoudey/Research2/BioDbNetQual/220411_ExamineFunction/notebook/nb_ProteinHistoryPropagation.ipynb#ch0000006?line=0'>1</a>\u001b[0m gbs_iter\u001b[39m=\u001b[39mSeqIO\u001b[39m.\u001b[39mparse(h, \u001b[39m\"\u001b[39m\u001b[39mgb\u001b[39m\u001b[39m\"\u001b[39m)\n\u001b[0;32m----> <a href='vscode-notebook-cell:/home/bwgoudey/Research2/BioDbNetQual/220411_ExamineFunction/notebook/nb_ProteinHistoryPropagation.ipynb#ch0000006?line=1'>2</a>\u001b[0m gbs_cut\u001b[39m=\u001b[39m[gbs_iter\u001b[39m.\u001b[39m\u001b[39m__next__\u001b[39m() \u001b[39mfor\u001b[39;00m i \u001b[39min\u001b[39;00m \u001b[39mrange\u001b[39m(\u001b[39m100\u001b[39m)]\n\u001b[1;32m      <a href='vscode-notebook-cell:/home/bwgoudey/Research2/BioDbNetQual/220411_ExamineFunction/notebook/nb_ProteinHistoryPropagation.ipynb#ch0000006?line=2'>3</a>\u001b[0m prots\u001b[39m=\u001b[39m([ (p\u001b[39m.\u001b[39mqualifiers[\u001b[39m'\u001b[39m\u001b[39mproduct\u001b[39m\u001b[39m'\u001b[39m],p\u001b[39m.\u001b[39mqualifiers[\u001b[39m'\u001b[39m\u001b[39mprotein_id\u001b[39m\u001b[39m'\u001b[39m], p\u001b[39m.\u001b[39mqualifiers[\u001b[39m'\u001b[39m\u001b[39mtranslation\u001b[39m\u001b[39m'\u001b[39m]) \u001b[39mfor\u001b[39;00m r \u001b[39min\u001b[39;00m gbs_cut \u001b[39mfor\u001b[39;00m p \u001b[39min\u001b[39;00m r\u001b[39m.\u001b[39mfeatures \u001b[39mif\u001b[39;00m p\u001b[39m.\u001b[39mtype\u001b[39m==\u001b[39m\u001b[39m\"\u001b[39m\u001b[39mCDS\u001b[39m\u001b[39m\"\u001b[39m \u001b[39mand\u001b[39;00m \u001b[39m'\u001b[39m\u001b[39mpseudo\u001b[39m\u001b[39m'\u001b[39m \u001b[39mnot\u001b[39;00m \u001b[39min\u001b[39;00m p\u001b[39m.\u001b[39mqualifiers])\n\u001b[1;32m      <a href='vscode-notebook-cell:/home/bwgoudey/Research2/BioDbNetQual/220411_ExamineFunction/notebook/nb_ProteinHistoryPropagation.ipynb#ch0000006?line=3'>4</a>\u001b[0m I\u001b[39m=\u001b[39m[p[\u001b[39m1\u001b[39m][\u001b[39m0\u001b[39m] \u001b[39min\u001b[39;00m gb_sp_map \u001b[39mor\u001b[39;00m p[\u001b[39m1\u001b[39m][\u001b[39m0\u001b[39m]\u001b[39m.\u001b[39msplit(\u001b[39m'\u001b[39m\u001b[39m.\u001b[39m\u001b[39m'\u001b[39m)[\u001b[39m0\u001b[39m] \u001b[39min\u001b[39;00m gb_sp_map \u001b[39mfor\u001b[39;00m p \u001b[39min\u001b[39;00m prots]\n",
      "\u001b[1;32m/home/bwgoudey/Research2/BioDbNetQual/220411_ExamineFunction/notebook/nb_ProteinHistoryPropagation.ipynb Cell 7'\u001b[0m in \u001b[0;36m<listcomp>\u001b[0;34m(.0)\u001b[0m\n\u001b[1;32m      <a href='vscode-notebook-cell:/home/bwgoudey/Research2/BioDbNetQual/220411_ExamineFunction/notebook/nb_ProteinHistoryPropagation.ipynb#ch0000006?line=0'>1</a>\u001b[0m gbs_iter\u001b[39m=\u001b[39mSeqIO\u001b[39m.\u001b[39mparse(h, \u001b[39m\"\u001b[39m\u001b[39mgb\u001b[39m\u001b[39m\"\u001b[39m)\n\u001b[0;32m----> <a href='vscode-notebook-cell:/home/bwgoudey/Research2/BioDbNetQual/220411_ExamineFunction/notebook/nb_ProteinHistoryPropagation.ipynb#ch0000006?line=1'>2</a>\u001b[0m gbs_cut\u001b[39m=\u001b[39m[gbs_iter\u001b[39m.\u001b[39;49m\u001b[39m__next__\u001b[39;49m() \u001b[39mfor\u001b[39;00m i \u001b[39min\u001b[39;00m \u001b[39mrange\u001b[39m(\u001b[39m100\u001b[39m)]\n\u001b[1;32m      <a href='vscode-notebook-cell:/home/bwgoudey/Research2/BioDbNetQual/220411_ExamineFunction/notebook/nb_ProteinHistoryPropagation.ipynb#ch0000006?line=2'>3</a>\u001b[0m prots\u001b[39m=\u001b[39m([ (p\u001b[39m.\u001b[39mqualifiers[\u001b[39m'\u001b[39m\u001b[39mproduct\u001b[39m\u001b[39m'\u001b[39m],p\u001b[39m.\u001b[39mqualifiers[\u001b[39m'\u001b[39m\u001b[39mprotein_id\u001b[39m\u001b[39m'\u001b[39m], p\u001b[39m.\u001b[39mqualifiers[\u001b[39m'\u001b[39m\u001b[39mtranslation\u001b[39m\u001b[39m'\u001b[39m]) \u001b[39mfor\u001b[39;00m r \u001b[39min\u001b[39;00m gbs_cut \u001b[39mfor\u001b[39;00m p \u001b[39min\u001b[39;00m r\u001b[39m.\u001b[39mfeatures \u001b[39mif\u001b[39;00m p\u001b[39m.\u001b[39mtype\u001b[39m==\u001b[39m\u001b[39m\"\u001b[39m\u001b[39mCDS\u001b[39m\u001b[39m\"\u001b[39m \u001b[39mand\u001b[39;00m \u001b[39m'\u001b[39m\u001b[39mpseudo\u001b[39m\u001b[39m'\u001b[39m \u001b[39mnot\u001b[39;00m \u001b[39min\u001b[39;00m p\u001b[39m.\u001b[39mqualifiers])\n\u001b[1;32m      <a href='vscode-notebook-cell:/home/bwgoudey/Research2/BioDbNetQual/220411_ExamineFunction/notebook/nb_ProteinHistoryPropagation.ipynb#ch0000006?line=3'>4</a>\u001b[0m I\u001b[39m=\u001b[39m[p[\u001b[39m1\u001b[39m][\u001b[39m0\u001b[39m] \u001b[39min\u001b[39;00m gb_sp_map \u001b[39mor\u001b[39;00m p[\u001b[39m1\u001b[39m][\u001b[39m0\u001b[39m]\u001b[39m.\u001b[39msplit(\u001b[39m'\u001b[39m\u001b[39m.\u001b[39m\u001b[39m'\u001b[39m)[\u001b[39m0\u001b[39m] \u001b[39min\u001b[39;00m gb_sp_map \u001b[39mfor\u001b[39;00m p \u001b[39min\u001b[39;00m prots]\n",
      "File \u001b[0;32m~/Research2/BioDbNetQual/220411_ExamineFunction/env/lib/python3.8/site-packages/Bio/SeqIO/Interfaces.py:74\u001b[0m, in \u001b[0;36mSequenceIterator.__next__\u001b[0;34m(self)\u001b[0m\n\u001b[1;32m     <a href='file:///home/bwgoudey/Research2/BioDbNetQual/220411_ExamineFunction/env/lib/python3.8/site-packages/Bio/SeqIO/Interfaces.py?line=71'>72</a>\u001b[0m \u001b[39mdef\u001b[39;00m \u001b[39m__next__\u001b[39m(\u001b[39mself\u001b[39m):\n\u001b[1;32m     <a href='file:///home/bwgoudey/Research2/BioDbNetQual/220411_ExamineFunction/env/lib/python3.8/site-packages/Bio/SeqIO/Interfaces.py?line=72'>73</a>\u001b[0m     \u001b[39mtry\u001b[39;00m:\n\u001b[0;32m---> <a href='file:///home/bwgoudey/Research2/BioDbNetQual/220411_ExamineFunction/env/lib/python3.8/site-packages/Bio/SeqIO/Interfaces.py?line=73'>74</a>\u001b[0m         \u001b[39mreturn\u001b[39;00m \u001b[39mnext\u001b[39;49m(\u001b[39mself\u001b[39;49m\u001b[39m.\u001b[39;49mrecords)\n\u001b[1;32m     <a href='file:///home/bwgoudey/Research2/BioDbNetQual/220411_ExamineFunction/env/lib/python3.8/site-packages/Bio/SeqIO/Interfaces.py?line=74'>75</a>\u001b[0m     \u001b[39mexcept\u001b[39;00m \u001b[39mException\u001b[39;00m:\n\u001b[1;32m     <a href='file:///home/bwgoudey/Research2/BioDbNetQual/220411_ExamineFunction/env/lib/python3.8/site-packages/Bio/SeqIO/Interfaces.py?line=75'>76</a>\u001b[0m         \u001b[39mif\u001b[39;00m \u001b[39mself\u001b[39m\u001b[39m.\u001b[39mshould_close_stream:\n",
      "File \u001b[0;32m~/Research2/BioDbNetQual/220411_ExamineFunction/env/lib/python3.8/site-packages/Bio/GenBank/Scanner.py:516\u001b[0m, in \u001b[0;36mInsdcScanner.parse_records\u001b[0;34m(self, handle, do_features)\u001b[0m\n\u001b[1;32m    <a href='file:///home/bwgoudey/Research2/BioDbNetQual/220411_ExamineFunction/env/lib/python3.8/site-packages/Bio/GenBank/Scanner.py?line=513'>514</a>\u001b[0m \u001b[39mwith\u001b[39;00m as_handle(handle) \u001b[39mas\u001b[39;00m handle:\n\u001b[1;32m    <a href='file:///home/bwgoudey/Research2/BioDbNetQual/220411_ExamineFunction/env/lib/python3.8/site-packages/Bio/GenBank/Scanner.py?line=514'>515</a>\u001b[0m     \u001b[39mwhile\u001b[39;00m \u001b[39mTrue\u001b[39;00m:\n\u001b[0;32m--> <a href='file:///home/bwgoudey/Research2/BioDbNetQual/220411_ExamineFunction/env/lib/python3.8/site-packages/Bio/GenBank/Scanner.py?line=515'>516</a>\u001b[0m         record \u001b[39m=\u001b[39m \u001b[39mself\u001b[39;49m\u001b[39m.\u001b[39;49mparse(handle, do_features)\n\u001b[1;32m    <a href='file:///home/bwgoudey/Research2/BioDbNetQual/220411_ExamineFunction/env/lib/python3.8/site-packages/Bio/GenBank/Scanner.py?line=516'>517</a>\u001b[0m         \u001b[39mif\u001b[39;00m record \u001b[39mis\u001b[39;00m \u001b[39mNone\u001b[39;00m:\n\u001b[1;32m    <a href='file:///home/bwgoudey/Research2/BioDbNetQual/220411_ExamineFunction/env/lib/python3.8/site-packages/Bio/GenBank/Scanner.py?line=517'>518</a>\u001b[0m             \u001b[39mbreak\u001b[39;00m\n",
      "File \u001b[0;32m~/Research2/BioDbNetQual/220411_ExamineFunction/env/lib/python3.8/site-packages/Bio/GenBank/Scanner.py:499\u001b[0m, in \u001b[0;36mInsdcScanner.parse\u001b[0;34m(self, handle, do_features)\u001b[0m\n\u001b[1;32m    <a href='file:///home/bwgoudey/Research2/BioDbNetQual/220411_ExamineFunction/env/lib/python3.8/site-packages/Bio/GenBank/Scanner.py?line=492'>493</a>\u001b[0m \u001b[39mfrom\u001b[39;00m \u001b[39mBio\u001b[39;00m\u001b[39m.\u001b[39;00m\u001b[39mGenBank\u001b[39;00m\u001b[39m.\u001b[39;00m\u001b[39mutils\u001b[39;00m \u001b[39mimport\u001b[39;00m FeatureValueCleaner\n\u001b[1;32m    <a href='file:///home/bwgoudey/Research2/BioDbNetQual/220411_ExamineFunction/env/lib/python3.8/site-packages/Bio/GenBank/Scanner.py?line=494'>495</a>\u001b[0m consumer \u001b[39m=\u001b[39m _FeatureConsumer(\n\u001b[1;32m    <a href='file:///home/bwgoudey/Research2/BioDbNetQual/220411_ExamineFunction/env/lib/python3.8/site-packages/Bio/GenBank/Scanner.py?line=495'>496</a>\u001b[0m     use_fuzziness\u001b[39m=\u001b[39m\u001b[39m1\u001b[39m, feature_cleaner\u001b[39m=\u001b[39mFeatureValueCleaner()\n\u001b[1;32m    <a href='file:///home/bwgoudey/Research2/BioDbNetQual/220411_ExamineFunction/env/lib/python3.8/site-packages/Bio/GenBank/Scanner.py?line=496'>497</a>\u001b[0m )\n\u001b[0;32m--> <a href='file:///home/bwgoudey/Research2/BioDbNetQual/220411_ExamineFunction/env/lib/python3.8/site-packages/Bio/GenBank/Scanner.py?line=498'>499</a>\u001b[0m \u001b[39mif\u001b[39;00m \u001b[39mself\u001b[39;49m\u001b[39m.\u001b[39;49mfeed(handle, consumer, do_features):\n\u001b[1;32m    <a href='file:///home/bwgoudey/Research2/BioDbNetQual/220411_ExamineFunction/env/lib/python3.8/site-packages/Bio/GenBank/Scanner.py?line=499'>500</a>\u001b[0m     \u001b[39mreturn\u001b[39;00m consumer\u001b[39m.\u001b[39mdata\n\u001b[1;32m    <a href='file:///home/bwgoudey/Research2/BioDbNetQual/220411_ExamineFunction/env/lib/python3.8/site-packages/Bio/GenBank/Scanner.py?line=500'>501</a>\u001b[0m \u001b[39melse\u001b[39;00m:\n",
      "File \u001b[0;32m~/Research2/BioDbNetQual/220411_ExamineFunction/env/lib/python3.8/site-packages/Bio/GenBank/Scanner.py:470\u001b[0m, in \u001b[0;36mInsdcScanner.feed\u001b[0;34m(self, handle, consumer, do_features)\u001b[0m\n\u001b[1;32m    <a href='file:///home/bwgoudey/Research2/BioDbNetQual/220411_ExamineFunction/env/lib/python3.8/site-packages/Bio/GenBank/Scanner.py?line=467'>468</a>\u001b[0m \u001b[39m# Features (common to both EMBL and GenBank):\u001b[39;00m\n\u001b[1;32m    <a href='file:///home/bwgoudey/Research2/BioDbNetQual/220411_ExamineFunction/env/lib/python3.8/site-packages/Bio/GenBank/Scanner.py?line=468'>469</a>\u001b[0m \u001b[39mif\u001b[39;00m do_features:\n\u001b[0;32m--> <a href='file:///home/bwgoudey/Research2/BioDbNetQual/220411_ExamineFunction/env/lib/python3.8/site-packages/Bio/GenBank/Scanner.py?line=469'>470</a>\u001b[0m     \u001b[39mself\u001b[39m\u001b[39m.\u001b[39m_feed_feature_table(consumer, \u001b[39mself\u001b[39;49m\u001b[39m.\u001b[39;49mparse_features(skip\u001b[39m=\u001b[39;49m\u001b[39mFalse\u001b[39;49;00m))\n\u001b[1;32m    <a href='file:///home/bwgoudey/Research2/BioDbNetQual/220411_ExamineFunction/env/lib/python3.8/site-packages/Bio/GenBank/Scanner.py?line=470'>471</a>\u001b[0m \u001b[39melse\u001b[39;00m:\n\u001b[1;32m    <a href='file:///home/bwgoudey/Research2/BioDbNetQual/220411_ExamineFunction/env/lib/python3.8/site-packages/Bio/GenBank/Scanner.py?line=471'>472</a>\u001b[0m     \u001b[39mself\u001b[39m\u001b[39m.\u001b[39mparse_features(skip\u001b[39m=\u001b[39m\u001b[39mTrue\u001b[39;00m)  \u001b[39m# ignore the data\u001b[39;00m\n",
      "File \u001b[0;32m~/Research2/BioDbNetQual/220411_ExamineFunction/env/lib/python3.8/site-packages/Bio/GenBank/Scanner.py:229\u001b[0m, in \u001b[0;36mInsdcScanner.parse_features\u001b[0;34m(self, skip)\u001b[0m\n\u001b[1;32m    <a href='file:///home/bwgoudey/Research2/BioDbNetQual/220411_ExamineFunction/env/lib/python3.8/site-packages/Bio/GenBank/Scanner.py?line=220'>221</a>\u001b[0m         \u001b[39mwhile\u001b[39;00m line[\n\u001b[1;32m    <a href='file:///home/bwgoudey/Research2/BioDbNetQual/220411_ExamineFunction/env/lib/python3.8/site-packages/Bio/GenBank/Scanner.py?line=221'>222</a>\u001b[0m             : \u001b[39mself\u001b[39m\u001b[39m.\u001b[39mFEATURE_QUALIFIER_INDENT\n\u001b[1;32m    <a href='file:///home/bwgoudey/Research2/BioDbNetQual/220411_ExamineFunction/env/lib/python3.8/site-packages/Bio/GenBank/Scanner.py?line=222'>223</a>\u001b[0m         ] \u001b[39m==\u001b[39m \u001b[39mself\u001b[39m\u001b[39m.\u001b[39mFEATURE_QUALIFIER_SPACER \u001b[39mor\u001b[39;00m (\n\u001b[0;32m   (...)\u001b[0m\n\u001b[1;32m    <a href='file:///home/bwgoudey/Research2/BioDbNetQual/220411_ExamineFunction/env/lib/python3.8/site-packages/Bio/GenBank/Scanner.py?line=225'>226</a>\u001b[0m             \u001b[39m# Use strip to remove any harmless trailing white space AND and leading\u001b[39;00m\n\u001b[1;32m    <a href='file:///home/bwgoudey/Research2/BioDbNetQual/220411_ExamineFunction/env/lib/python3.8/site-packages/Bio/GenBank/Scanner.py?line=226'>227</a>\u001b[0m             \u001b[39m# white space (e.g. out of spec files with too much indentation)\u001b[39;00m\n\u001b[1;32m    <a href='file:///home/bwgoudey/Research2/BioDbNetQual/220411_ExamineFunction/env/lib/python3.8/site-packages/Bio/GenBank/Scanner.py?line=227'>228</a>\u001b[0m             feature_lines\u001b[39m.\u001b[39mappend(line[\u001b[39mself\u001b[39m\u001b[39m.\u001b[39mFEATURE_QUALIFIER_INDENT :]\u001b[39m.\u001b[39mstrip())\n\u001b[0;32m--> <a href='file:///home/bwgoudey/Research2/BioDbNetQual/220411_ExamineFunction/env/lib/python3.8/site-packages/Bio/GenBank/Scanner.py?line=228'>229</a>\u001b[0m             line \u001b[39m=\u001b[39m \u001b[39mself\u001b[39;49m\u001b[39m.\u001b[39;49mhandle\u001b[39m.\u001b[39;49mreadline()\n\u001b[1;32m    <a href='file:///home/bwgoudey/Research2/BioDbNetQual/220411_ExamineFunction/env/lib/python3.8/site-packages/Bio/GenBank/Scanner.py?line=229'>230</a>\u001b[0m         features\u001b[39m.\u001b[39mappend(\u001b[39mself\u001b[39m\u001b[39m.\u001b[39mparse_feature(feature_key, feature_lines))\n\u001b[1;32m    <a href='file:///home/bwgoudey/Research2/BioDbNetQual/220411_ExamineFunction/env/lib/python3.8/site-packages/Bio/GenBank/Scanner.py?line=230'>231</a>\u001b[0m \u001b[39mself\u001b[39m\u001b[39m.\u001b[39mline \u001b[39m=\u001b[39m line\n",
      "\u001b[0;31mKeyboardInterrupt\u001b[0m: "
     ]
    }
   ],
   "source": [
    "\n",
    "gbs_iter=SeqIO.parse(h, \"gb\")\n",
    "gbs_cut=[gbs_iter.__next__() for i in range(100)]\n",
    "prots=([ (p.qualifiers['product'],p.qualifiers['protein_id'], p.qualifiers['translation']) for r in gbs_cut for p in r.features if p.type==\"CDS\" and 'pseudo' not in p.qualifiers])\n",
    "I=[p[1][0] in gb_sp_map or p[1][0].split('.')[0] in gb_sp_map for p in prots]\n",
    "any(i)"
   ]
  },
  {
   "cell_type": "code",
   "execution_count": null,
   "metadata": {},
   "outputs": [],
   "source": [
    "# For each set of genbank records (gb*.seq.gz)\n",
    "#  Extract record\n",
    "#  Download history\n",
    "#  "
   ]
  }
 ],
 "metadata": {
  "interpreter": {
   "hash": "4d8eea3e487bd2e3b9ae8892f2b688f4310b47e90c9d4741ca489326e81f87fc"
  },
  "kernelspec": {
   "display_name": "Python 3.9.12 ('.env': venv)",
   "language": "python",
   "name": "python3"
  },
  "language_info": {
   "codemirror_mode": {
    "name": "ipython",
    "version": 3
   },
   "file_extension": ".py",
   "mimetype": "text/x-python",
   "name": "python",
   "nbconvert_exporter": "python",
   "pygments_lexer": "ipython3",
   "version": "3.9.12"
  },
  "orig_nbformat": 4
 },
 "nbformat": 4,
 "nbformat_minor": 2
}
